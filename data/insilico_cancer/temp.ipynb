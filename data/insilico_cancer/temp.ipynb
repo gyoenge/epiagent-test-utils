{
 "cells": [
  {
   "cell_type": "code",
   "execution_count": 8,
   "id": "6a590308",
   "metadata": {},
   "outputs": [
    {
     "name": "stdout",
     "output_type": "stream",
     "text": [
      "✅ Saved downsampled data: ./raw_h5ad/downsampled_paper_20642.h5ad\n"
     ]
    }
   ],
   "source": [
    "import scanpy as sc\n",
    "import numpy as np\n",
    "import os\n",
    "import re\n",
    "\n",
    "TOTAL_DATA_PATH = \"./raw_h5ad/merged_hasmeta_cells.h5ad\"\n",
    "SAVE_DIR = \"./raw_h5ad\"\n",
    "DOWNSAMPLE_SET = [\n",
    "    # paper\n",
    "    \"C3N-00242-T1_CPT0014450005_snATAC_ccRCC\",\n",
    "    \"C3N-01200-T1_CPT0075130004_snATAC_ccRCC\",\n",
    "    \"C3L-00004-T1_CPT0001540013_snATAC_ccRCC\",\n",
    "    \"C3L-00610-T1_CPT0025110004_snATAC_ccRCC\",\n",
    "]\n",
    "\n",
    "os.makedirs(SAVE_DIR, exist_ok=True)\n",
    "\n",
    "adata = sc.read_h5ad(TOTAL_DATA_PATH)\n",
    "\n",
    "pattern = '|'.join(map(re.escape, DOWNSAMPLE_SET))\n",
    "mask = adata.obs['GEO.sample'].str.contains(pattern, na=False)\n",
    "\n",
    "filtered_adata = adata[mask].copy()\n",
    "n_sample = filtered_adata.shape[0]\n",
    "\n",
    "output_path = os.path.join(SAVE_DIR, f\"downsampled_paper_{n_sample}.h5ad\")\n",
    "filtered_adata.write(output_path)\n",
    "\n",
    "print(f\"✅ Saved downsampled data: {output_path}\")"
   ]
  },
  {
   "cell_type": "code",
   "execution_count": 9,
   "id": "9fcdcf5e",
   "metadata": {},
   "outputs": [
    {
     "name": "stdout",
     "output_type": "stream",
     "text": [
      "Applying TF-IDF...\n",
      "Tokenizing the data...\n",
      "Tokenization complete: 'cell_sentences' column added to adata.obs.\n",
      "Processed data saved at ./processed_h5ad/downsampled_paper_20642_cellsentenced.h5ad\n"
     ]
    }
   ],
   "source": [
    "from epiagent.preprocessing import global_TFIDF\n",
    "from epiagent.tokenization import tokenization\n",
    "import numpy as np\n",
    "import scanpy as sc\n",
    "import os\n",
    "\n",
    "CCRE_DOCFREQ_PATH = '../cCRE_document_frequency.npy'\n",
    "DATA_PATH = \"./raw_h5ad/downsampled_paper_20642.h5ad\"\n",
    "# DATA_PATH = \"./raw_h5ad/downsampled_test_10000.h5ad\"\n",
    "# DATA_PATH = \"./raw_h5ad/C3L-00004-T1_CPT0001540013_snATAC_ccRCC.h5ad\"\n",
    "SAVE_DIR = \"./processed_h5ad\" \n",
    "\n",
    "adata = sc.read_h5ad(DATA_PATH)\n",
    "cCRE_document_frequency = np.load(CCRE_DOCFREQ_PATH)\n",
    "\n",
    "# Apply TF-IDF\n",
    "print(\"Applying TF-IDF...\")\n",
    "global_TFIDF(adata, cCRE_document_frequency)\n",
    "\n",
    "# Tokenize the data\n",
    "print(\"Tokenizing the data...\")\n",
    "tokenization(adata)\n",
    "\n",
    "# Save the processed AnnData\n",
    "os.makedirs(SAVE_DIR, exist_ok=True)\n",
    "processed_output_path = os.path.join(SAVE_DIR, os.path.basename(DATA_PATH).replace('.h5ad', '_cellsentenced.h5ad'))\n",
    "adata.write(processed_output_path)\n",
    "print(f\"Processed data saved at {processed_output_path}\")\n"
   ]
  },
  {
   "cell_type": "code",
   "execution_count": 38,
   "id": "95116970",
   "metadata": {},
   "outputs": [
    {
     "name": "stdout",
     "output_type": "stream",
     "text": [
      "Adding metadata...\n",
      "| For (24293, 1) metadata entries\n",
      "| Selected (11471, 1)\n",
      "| Final adata shape: (11001, 1355445)\n",
      "Generated ./raw_h5ad/normal_withmeta.h5ad\n"
     ]
    }
   ],
   "source": [
    "import scanpy as sc \n",
    "import pandas as pd\n",
    "\n",
    "DATA_PATH = \"./raw_h5ad/merged_hasmeta_cells.h5ad\"\n",
    "METADATA_PATH = \"./temp/normal_metadata.tsv\"\n",
    "OUTPUT_PATH = \"./raw_h5ad/normal_withmeta.h5ad\"\n",
    "\n",
    "adata = sc.read_h5ad(DATA_PATH)\n",
    "adata.obs.index = adata.obs['Merged_barcode'].tolist()\n",
    "\n",
    "print(\"Adding metadata...\")\n",
    "metadata = pd.read_csv(METADATA_PATH, sep='\\t', index_col=0)\n",
    "print(f\"| For {metadata.shape} metadata entries\")\n",
    "metadata = metadata[metadata['cell_type.normal'].astype(str) == 'Proximal Tubule'] # Filter metadata for 'Proximal Tubule' cell type\n",
    "print(f\"| Selected {metadata.shape}\")\n",
    "\n",
    "adata = adata[adata.obs_names.isin(metadata.index)].copy()\n",
    "metadata = metadata.loc[adata.obs_names]\n",
    "adata.obs = adata.obs.join(metadata, how='left')\n",
    "adata.obs = adata.obs.astype(str) \n",
    "print(f\"| Final adata shape: {adata.shape}\")\n",
    "\n",
    "# Save AnnData\n",
    "adata.write(OUTPUT_PATH)\n",
    "print(f\"Generated {OUTPUT_PATH}\")\n",
    "\n"
   ]
  },
  {
   "cell_type": "code",
   "execution_count": 37,
   "id": "3d552d9c",
   "metadata": {},
   "outputs": [
    {
     "data": {
      "text/plain": [
       "Index(['ccRCC_C3L-00088-T1_CGGACCATCTTAGTGG-1',\n",
       "       'ccRCC_C3L-00088-N_AAACGAAAGAATATCG-1',\n",
       "       'ccRCC_C3L-00088-N_AAACGAAAGACAACGC-1',\n",
       "       'ccRCC_C3L-00088-N_AAACGAAAGATTCCGT-1',\n",
       "       'ccRCC_C3L-00088-N_AAACGAAAGCAGGAGG-1',\n",
       "       'ccRCC_C3L-00088-N_AAACGAAAGGCACCTC-1',\n",
       "       'ccRCC_C3L-00088-N_AAACGAAAGGTTGTTC-1',\n",
       "       'ccRCC_C3L-00088-N_AAACGAACATCTCACC-1',\n",
       "       'ccRCC_C3L-00088-N_AAACGAAGTACGTATC-1',\n",
       "       'ccRCC_C3L-00088-N_AAACGAAGTATTGTCG-1',\n",
       "       ...\n",
       "       'ccRCC_K1900070_TTGTTCAAGTAGTTCC-1',\n",
       "       'ccRCC_K1900070_TTGTTCAGTAGCTGTT-1',\n",
       "       'ccRCC_K1900070_TTGTTGTTCGAGTTAC-1',\n",
       "       'ccRCC_K1900070_TTGTTGTTCTGGTACA-1',\n",
       "       'ccRCC_K1900070_TTTGAGGCACCCTTTG-1',\n",
       "       'ccRCC_K1900070_TTTGCGCAGGGTCCCT-1',\n",
       "       'ccRCC_K1900070_TTTGCGCTCGTTCTAT-1',\n",
       "       'ccRCC_K1900070_TTTGGTTAGTCATCTG-1',\n",
       "       'ccRCC_K1900070_TTTGGTTGTACTTGAC-1',\n",
       "       'ccRCC_K1900070_TTTGTGTCACGACGAA-1'],\n",
       "      dtype='object', length=24293)"
      ]
     },
     "execution_count": 37,
     "metadata": {},
     "output_type": "execute_result"
    }
   ],
   "source": [
    "metadata = pd.read_csv(METADATA_PATH, sep='\\t', index_col=0)\n",
    "metadata.head()\n",
    "metadata.index"
   ]
  },
  {
   "cell_type": "markdown",
   "id": "f0015dd4",
   "metadata": {},
   "source": []
  },
  {
   "cell_type": "code",
   "execution_count": 40,
   "id": "ded734f1",
   "metadata": {},
   "outputs": [
    {
     "data": {
      "text/html": [
       "<div>\n",
       "<style scoped>\n",
       "    .dataframe tbody tr th:only-of-type {\n",
       "        vertical-align: middle;\n",
       "    }\n",
       "\n",
       "    .dataframe tbody tr th {\n",
       "        vertical-align: top;\n",
       "    }\n",
       "\n",
       "    .dataframe thead th {\n",
       "        text-align: right;\n",
       "    }\n",
       "</style>\n",
       "<table border=\"1\" class=\"dataframe\">\n",
       "  <thead>\n",
       "    <tr style=\"text-align: right;\">\n",
       "      <th></th>\n",
       "      <th>Merged_barcode</th>\n",
       "      <th>Sample</th>\n",
       "      <th>Case_ID</th>\n",
       "      <th>Piece_ID</th>\n",
       "      <th>Sample_type</th>\n",
       "      <th>data.type</th>\n",
       "      <th>Chemistry</th>\n",
       "      <th>Cancer</th>\n",
       "      <th>cell_type.harmonized.cancer</th>\n",
       "      <th>Aliquot</th>\n",
       "      <th>GEO.sample</th>\n",
       "      <th>cell_type.normal</th>\n",
       "    </tr>\n",
       "  </thead>\n",
       "  <tbody>\n",
       "    <tr>\n",
       "      <th>ccRCC_C3L-00908-T1_ATCGAGTAGCTTTCCC-1</th>\n",
       "      <td>ccRCC_C3L-00908-T1_ATCGAGTAGCTTTCCC-1</td>\n",
       "      <td>CPT0086350004</td>\n",
       "      <td>C3L-00908</td>\n",
       "      <td>C3L-00908-T1</td>\n",
       "      <td>Tumor</td>\n",
       "      <td>snATAC</td>\n",
       "      <td>snATAC</td>\n",
       "      <td>ccRCC</td>\n",
       "      <td>Normal epithelial cells</td>\n",
       "      <td>CPT0086350004</td>\n",
       "      <td>C3L-00908-T1_CPT0086350004_snATAC_ccRCC</td>\n",
       "      <td>Proximal Tubule</td>\n",
       "    </tr>\n",
       "    <tr>\n",
       "      <th>ccRCC_C3L-00908-T1_CGCTATCAGATGGCAC-1</th>\n",
       "      <td>ccRCC_C3L-00908-T1_CGCTATCAGATGGCAC-1</td>\n",
       "      <td>CPT0086350004</td>\n",
       "      <td>C3L-00908</td>\n",
       "      <td>C3L-00908-T1</td>\n",
       "      <td>Tumor</td>\n",
       "      <td>snATAC</td>\n",
       "      <td>snATAC</td>\n",
       "      <td>ccRCC</td>\n",
       "      <td>Normal epithelial cells</td>\n",
       "      <td>CPT0086350004</td>\n",
       "      <td>C3L-00908-T1_CPT0086350004_snATAC_ccRCC</td>\n",
       "      <td>Proximal Tubule</td>\n",
       "    </tr>\n",
       "    <tr>\n",
       "      <th>ccRCC_C3L-00908-T1_GCCTAGGCAACTCCCT-1</th>\n",
       "      <td>ccRCC_C3L-00908-T1_GCCTAGGCAACTCCCT-1</td>\n",
       "      <td>CPT0086350004</td>\n",
       "      <td>C3L-00908</td>\n",
       "      <td>C3L-00908-T1</td>\n",
       "      <td>Tumor</td>\n",
       "      <td>snATAC</td>\n",
       "      <td>snATAC</td>\n",
       "      <td>ccRCC</td>\n",
       "      <td>Normal epithelial cells</td>\n",
       "      <td>CPT0086350004</td>\n",
       "      <td>C3L-00908-T1_CPT0086350004_snATAC_ccRCC</td>\n",
       "      <td>Proximal Tubule</td>\n",
       "    </tr>\n",
       "    <tr>\n",
       "      <th>ccRCC_C3L-00908-T1_TTGGTCCAGTACGCGA-1</th>\n",
       "      <td>ccRCC_C3L-00908-T1_TTGGTCCAGTACGCGA-1</td>\n",
       "      <td>CPT0086350004</td>\n",
       "      <td>C3L-00908</td>\n",
       "      <td>C3L-00908-T1</td>\n",
       "      <td>Tumor</td>\n",
       "      <td>snATAC</td>\n",
       "      <td>snATAC</td>\n",
       "      <td>ccRCC</td>\n",
       "      <td>Normal epithelial cells</td>\n",
       "      <td>CPT0086350004</td>\n",
       "      <td>C3L-00908-T1_CPT0086350004_snATAC_ccRCC</td>\n",
       "      <td>Proximal Tubule</td>\n",
       "    </tr>\n",
       "    <tr>\n",
       "      <th>ccRCC_C3L-00917-T1_AACCGATAGTTTGGAA-1</th>\n",
       "      <td>ccRCC_C3L-00917-T1_AACCGATAGTTTGGAA-1</td>\n",
       "      <td>CPT0023690004</td>\n",
       "      <td>C3L-00917</td>\n",
       "      <td>C3L-00917-T1</td>\n",
       "      <td>Tumor</td>\n",
       "      <td>snATAC</td>\n",
       "      <td>snATAC</td>\n",
       "      <td>ccRCC</td>\n",
       "      <td>Normal epithelial cells</td>\n",
       "      <td>CPT0023690004</td>\n",
       "      <td>C3L-00917-T1_CPT0023690004_snATAC_ccRCC</td>\n",
       "      <td>Proximal Tubule</td>\n",
       "    </tr>\n",
       "  </tbody>\n",
       "</table>\n",
       "</div>"
      ],
      "text/plain": [
       "                                                              Merged_barcode  \\\n",
       "ccRCC_C3L-00908-T1_ATCGAGTAGCTTTCCC-1  ccRCC_C3L-00908-T1_ATCGAGTAGCTTTCCC-1   \n",
       "ccRCC_C3L-00908-T1_CGCTATCAGATGGCAC-1  ccRCC_C3L-00908-T1_CGCTATCAGATGGCAC-1   \n",
       "ccRCC_C3L-00908-T1_GCCTAGGCAACTCCCT-1  ccRCC_C3L-00908-T1_GCCTAGGCAACTCCCT-1   \n",
       "ccRCC_C3L-00908-T1_TTGGTCCAGTACGCGA-1  ccRCC_C3L-00908-T1_TTGGTCCAGTACGCGA-1   \n",
       "ccRCC_C3L-00917-T1_AACCGATAGTTTGGAA-1  ccRCC_C3L-00917-T1_AACCGATAGTTTGGAA-1   \n",
       "\n",
       "                                              Sample    Case_ID      Piece_ID  \\\n",
       "ccRCC_C3L-00908-T1_ATCGAGTAGCTTTCCC-1  CPT0086350004  C3L-00908  C3L-00908-T1   \n",
       "ccRCC_C3L-00908-T1_CGCTATCAGATGGCAC-1  CPT0086350004  C3L-00908  C3L-00908-T1   \n",
       "ccRCC_C3L-00908-T1_GCCTAGGCAACTCCCT-1  CPT0086350004  C3L-00908  C3L-00908-T1   \n",
       "ccRCC_C3L-00908-T1_TTGGTCCAGTACGCGA-1  CPT0086350004  C3L-00908  C3L-00908-T1   \n",
       "ccRCC_C3L-00917-T1_AACCGATAGTTTGGAA-1  CPT0023690004  C3L-00917  C3L-00917-T1   \n",
       "\n",
       "                                      Sample_type data.type Chemistry Cancer  \\\n",
       "ccRCC_C3L-00908-T1_ATCGAGTAGCTTTCCC-1       Tumor    snATAC    snATAC  ccRCC   \n",
       "ccRCC_C3L-00908-T1_CGCTATCAGATGGCAC-1       Tumor    snATAC    snATAC  ccRCC   \n",
       "ccRCC_C3L-00908-T1_GCCTAGGCAACTCCCT-1       Tumor    snATAC    snATAC  ccRCC   \n",
       "ccRCC_C3L-00908-T1_TTGGTCCAGTACGCGA-1       Tumor    snATAC    snATAC  ccRCC   \n",
       "ccRCC_C3L-00917-T1_AACCGATAGTTTGGAA-1       Tumor    snATAC    snATAC  ccRCC   \n",
       "\n",
       "                                      cell_type.harmonized.cancer  \\\n",
       "ccRCC_C3L-00908-T1_ATCGAGTAGCTTTCCC-1     Normal epithelial cells   \n",
       "ccRCC_C3L-00908-T1_CGCTATCAGATGGCAC-1     Normal epithelial cells   \n",
       "ccRCC_C3L-00908-T1_GCCTAGGCAACTCCCT-1     Normal epithelial cells   \n",
       "ccRCC_C3L-00908-T1_TTGGTCCAGTACGCGA-1     Normal epithelial cells   \n",
       "ccRCC_C3L-00917-T1_AACCGATAGTTTGGAA-1     Normal epithelial cells   \n",
       "\n",
       "                                             Aliquot  \\\n",
       "ccRCC_C3L-00908-T1_ATCGAGTAGCTTTCCC-1  CPT0086350004   \n",
       "ccRCC_C3L-00908-T1_CGCTATCAGATGGCAC-1  CPT0086350004   \n",
       "ccRCC_C3L-00908-T1_GCCTAGGCAACTCCCT-1  CPT0086350004   \n",
       "ccRCC_C3L-00908-T1_TTGGTCCAGTACGCGA-1  CPT0086350004   \n",
       "ccRCC_C3L-00917-T1_AACCGATAGTTTGGAA-1  CPT0023690004   \n",
       "\n",
       "                                                                    GEO.sample  \\\n",
       "ccRCC_C3L-00908-T1_ATCGAGTAGCTTTCCC-1  C3L-00908-T1_CPT0086350004_snATAC_ccRCC   \n",
       "ccRCC_C3L-00908-T1_CGCTATCAGATGGCAC-1  C3L-00908-T1_CPT0086350004_snATAC_ccRCC   \n",
       "ccRCC_C3L-00908-T1_GCCTAGGCAACTCCCT-1  C3L-00908-T1_CPT0086350004_snATAC_ccRCC   \n",
       "ccRCC_C3L-00908-T1_TTGGTCCAGTACGCGA-1  C3L-00908-T1_CPT0086350004_snATAC_ccRCC   \n",
       "ccRCC_C3L-00917-T1_AACCGATAGTTTGGAA-1  C3L-00917-T1_CPT0023690004_snATAC_ccRCC   \n",
       "\n",
       "                                      cell_type.normal  \n",
       "ccRCC_C3L-00908-T1_ATCGAGTAGCTTTCCC-1  Proximal Tubule  \n",
       "ccRCC_C3L-00908-T1_CGCTATCAGATGGCAC-1  Proximal Tubule  \n",
       "ccRCC_C3L-00908-T1_GCCTAGGCAACTCCCT-1  Proximal Tubule  \n",
       "ccRCC_C3L-00908-T1_TTGGTCCAGTACGCGA-1  Proximal Tubule  \n",
       "ccRCC_C3L-00917-T1_AACCGATAGTTTGGAA-1  Proximal Tubule  "
      ]
     },
     "execution_count": 40,
     "metadata": {},
     "output_type": "execute_result"
    }
   ],
   "source": [
    "adata.obs.head()"
   ]
  },
  {
   "cell_type": "code",
   "execution_count": 32,
   "id": "5ca8b220",
   "metadata": {},
   "outputs": [
    {
     "name": "stdout",
     "output_type": "stream",
     "text": [
      "Processing normal set: C3N-00242-N_CPT0014470002_snATAC_ccRCC with 0 samples\n",
      "Processing normal set: C3N-01200-N_CPT0075170013_snATAC_ccRCC with 0 samples\n",
      "Processing normal set: C3L-00079-N_CPT0001270002_snATAC_ccRCC with 0 samples\n",
      "Processing normal set: C3L-00088-N_CPT0000890002_snATAC_ccRCC with 0 samples\n"
     ]
    },
    {
     "name": "stderr",
     "output_type": "stream",
     "text": [
      "/workspace/epiagent/venv311/lib/python3.11/site-packages/anndata/_core/aligned_df.py:68: ImplicitModificationWarning: Transforming to str index.\n",
      "  warnings.warn(\"Transforming to str index.\", ImplicitModificationWarning)\n",
      "/workspace/epiagent/venv311/lib/python3.11/site-packages/anndata/_core/aligned_df.py:68: ImplicitModificationWarning: Transforming to str index.\n",
      "  warnings.warn(\"Transforming to str index.\", ImplicitModificationWarning)\n",
      "/workspace/epiagent/venv311/lib/python3.11/site-packages/anndata/_core/aligned_df.py:68: ImplicitModificationWarning: Transforming to str index.\n",
      "  warnings.warn(\"Transforming to str index.\", ImplicitModificationWarning)\n",
      "/workspace/epiagent/venv311/lib/python3.11/site-packages/anndata/_core/aligned_df.py:68: ImplicitModificationWarning: Transforming to str index.\n",
      "  warnings.warn(\"Transforming to str index.\", ImplicitModificationWarning)\n"
     ]
    }
   ],
   "source": [
    "NORMAL_SETS = [\n",
    "    \"C3N-00242-N_CPT0014470002_snATAC_ccRCC\",\n",
    "    \"C3N-01200-N_CPT0075170013_snATAC_ccRCC\",\n",
    "    \"C3L-00079-N_CPT0001270002_snATAC_ccRCC\",\n",
    "    \"C3L-00088-N_CPT0000890002_snATAC_ccRCC\"\n",
    "]\n",
    "\n",
    "for normal_set in NORMAL_SETS:\n",
    "    normal_adata = adata[adata.obs['GEO.sample'] == normal_set].copy()\n",
    "    n_sample = normal_adata.shape[0]\n",
    "\n",
    "    print(f\"Processing normal set: {normal_set} with {n_sample} samples\")"
   ]
  },
  {
   "cell_type": "code",
   "execution_count": 58,
   "id": "b7c2b9d2",
   "metadata": {},
   "outputs": [],
   "source": [
    "adata = sc.read_h5ad(\"./raw_h5ad/downsampled_paper_20642.h5ad\")"
   ]
  },
  {
   "cell_type": "code",
   "execution_count": 59,
   "id": "1e05127b",
   "metadata": {},
   "outputs": [
    {
     "data": {
      "text/plain": [
       "AnnData object with n_obs × n_vars = 20642 × 1355445\n",
       "    obs: 'Merged_barcode', 'Sample', 'Case_ID', 'Piece_ID', 'Sample_type', 'data.type', 'Chemistry', 'Cancer', 'cell_type.harmonized.cancer', 'Aliquot', 'GEO.sample'"
      ]
     },
     "execution_count": 59,
     "metadata": {},
     "output_type": "execute_result"
    }
   ],
   "source": [
    "adata"
   ]
  },
  {
   "cell_type": "code",
   "execution_count": 60,
   "id": "0e1e9432",
   "metadata": {},
   "outputs": [
    {
     "data": {
      "text/plain": [
       "['Tumor', 'T-cells', 'Macrophages', 'Low quality', 'Endothelial', 'Fibroblasts', 'Normal epithelial cells', 'Unknown']\n",
       "Categories (8, object): ['Endothelial', 'Fibroblasts', 'Low quality', 'Macrophages', 'Normal epithelial cells', 'T-cells', 'Tumor', 'Unknown']"
      ]
     },
     "execution_count": 60,
     "metadata": {},
     "output_type": "execute_result"
    }
   ],
   "source": [
    "adata.obs['cell_type.harmonized.cancer'].unique()"
   ]
  },
  {
   "cell_type": "code",
   "execution_count": 61,
   "id": "04443bc0",
   "metadata": {},
   "outputs": [
    {
     "name": "stdout",
     "output_type": "stream",
     "text": [
      "12710\n",
      "14\n"
     ]
    }
   ],
   "source": [
    "print(adata[adata.obs['cell_type.harmonized.cancer'] == 'Tumor'].shape[0])\n",
    "print(adata[adata.obs['cell_type.harmonized.cancer'].str.contains('Normal')].shape[0])"
   ]
  },
  {
   "cell_type": "code",
   "execution_count": 2,
   "id": "5a08ce6d",
   "metadata": {},
   "outputs": [],
   "source": [
    "import scanpy as sc"
   ]
  },
  {
   "cell_type": "code",
   "execution_count": 3,
   "id": "32d83892",
   "metadata": {},
   "outputs": [],
   "source": [
    "adata = sc.read_h5ad(\"./raw_h5ad/downsampled_stable_17855.h5ad\")"
   ]
  },
  {
   "cell_type": "code",
   "execution_count": 54,
   "id": "77cf8ea5",
   "metadata": {},
   "outputs": [
    {
     "data": {
      "text/html": [
       "<div>\n",
       "<style scoped>\n",
       "    .dataframe tbody tr th:only-of-type {\n",
       "        vertical-align: middle;\n",
       "    }\n",
       "\n",
       "    .dataframe tbody tr th {\n",
       "        vertical-align: top;\n",
       "    }\n",
       "\n",
       "    .dataframe thead th {\n",
       "        text-align: right;\n",
       "    }\n",
       "</style>\n",
       "<table border=\"1\" class=\"dataframe\">\n",
       "  <thead>\n",
       "    <tr style=\"text-align: right;\">\n",
       "      <th></th>\n",
       "      <th>Merged_barcode</th>\n",
       "      <th>Sample</th>\n",
       "      <th>Case_ID</th>\n",
       "      <th>Piece_ID</th>\n",
       "      <th>Sample_type</th>\n",
       "      <th>data.type</th>\n",
       "      <th>Chemistry</th>\n",
       "      <th>Cancer</th>\n",
       "      <th>cell_type.harmonized.cancer</th>\n",
       "      <th>Aliquot</th>\n",
       "      <th>GEO.sample</th>\n",
       "    </tr>\n",
       "  </thead>\n",
       "  <tbody>\n",
       "    <tr>\n",
       "      <th>C3L-00088-N_CPT0000890002_snATAC_ccRCC_AAACGAAAGAATATCG-1</th>\n",
       "      <td>ccRCC_C3L-00088-N_AAACGAAAGAATATCG-1</td>\n",
       "      <td>CPT0000890002</td>\n",
       "      <td>C3L-00088</td>\n",
       "      <td>C3L-00088-N</td>\n",
       "      <td>Normal</td>\n",
       "      <td>snATAC</td>\n",
       "      <td>snATAC</td>\n",
       "      <td>ccRCC</td>\n",
       "      <td>Normal epithelial cells</td>\n",
       "      <td>CPT0000890002</td>\n",
       "      <td>C3L-00088-N_CPT0000890002_snATAC_ccRCC_NAT</td>\n",
       "    </tr>\n",
       "    <tr>\n",
       "      <th>C3L-00088-N_CPT0000890002_snATAC_ccRCC_AAACGAAAGACAACGC-1</th>\n",
       "      <td>ccRCC_C3L-00088-N_AAACGAAAGACAACGC-1</td>\n",
       "      <td>CPT0000890002</td>\n",
       "      <td>C3L-00088</td>\n",
       "      <td>C3L-00088-N</td>\n",
       "      <td>Normal</td>\n",
       "      <td>snATAC</td>\n",
       "      <td>snATAC</td>\n",
       "      <td>ccRCC</td>\n",
       "      <td>Normal epithelial cells</td>\n",
       "      <td>CPT0000890002</td>\n",
       "      <td>C3L-00088-N_CPT0000890002_snATAC_ccRCC_NAT</td>\n",
       "    </tr>\n",
       "    <tr>\n",
       "      <th>C3L-00088-N_CPT0000890002_snATAC_ccRCC_AAACGAAAGATTCCGT-1</th>\n",
       "      <td>ccRCC_C3L-00088-N_AAACGAAAGATTCCGT-1</td>\n",
       "      <td>CPT0000890002</td>\n",
       "      <td>C3L-00088</td>\n",
       "      <td>C3L-00088-N</td>\n",
       "      <td>Normal</td>\n",
       "      <td>snATAC</td>\n",
       "      <td>snATAC</td>\n",
       "      <td>ccRCC</td>\n",
       "      <td>Normal epithelial cells</td>\n",
       "      <td>CPT0000890002</td>\n",
       "      <td>C3L-00088-N_CPT0000890002_snATAC_ccRCC_NAT</td>\n",
       "    </tr>\n",
       "    <tr>\n",
       "      <th>C3L-00088-N_CPT0000890002_snATAC_ccRCC_AAACGAAAGCAGGAGG-1</th>\n",
       "      <td>ccRCC_C3L-00088-N_AAACGAAAGCAGGAGG-1</td>\n",
       "      <td>CPT0000890002</td>\n",
       "      <td>C3L-00088</td>\n",
       "      <td>C3L-00088-N</td>\n",
       "      <td>Normal</td>\n",
       "      <td>snATAC</td>\n",
       "      <td>snATAC</td>\n",
       "      <td>ccRCC</td>\n",
       "      <td>Normal epithelial cells</td>\n",
       "      <td>CPT0000890002</td>\n",
       "      <td>C3L-00088-N_CPT0000890002_snATAC_ccRCC_NAT</td>\n",
       "    </tr>\n",
       "    <tr>\n",
       "      <th>C3L-00088-N_CPT0000890002_snATAC_ccRCC_AAACGAAAGGCACCTC-1</th>\n",
       "      <td>ccRCC_C3L-00088-N_AAACGAAAGGCACCTC-1</td>\n",
       "      <td>CPT0000890002</td>\n",
       "      <td>C3L-00088</td>\n",
       "      <td>C3L-00088-N</td>\n",
       "      <td>Normal</td>\n",
       "      <td>snATAC</td>\n",
       "      <td>snATAC</td>\n",
       "      <td>ccRCC</td>\n",
       "      <td>Normal epithelial cells</td>\n",
       "      <td>CPT0000890002</td>\n",
       "      <td>C3L-00088-N_CPT0000890002_snATAC_ccRCC_NAT</td>\n",
       "    </tr>\n",
       "  </tbody>\n",
       "</table>\n",
       "</div>"
      ],
      "text/plain": [
       "                                                                          Merged_barcode  \\\n",
       "C3L-00088-N_CPT0000890002_snATAC_ccRCC_AAACGAAA...  ccRCC_C3L-00088-N_AAACGAAAGAATATCG-1   \n",
       "C3L-00088-N_CPT0000890002_snATAC_ccRCC_AAACGAAA...  ccRCC_C3L-00088-N_AAACGAAAGACAACGC-1   \n",
       "C3L-00088-N_CPT0000890002_snATAC_ccRCC_AAACGAAA...  ccRCC_C3L-00088-N_AAACGAAAGATTCCGT-1   \n",
       "C3L-00088-N_CPT0000890002_snATAC_ccRCC_AAACGAAA...  ccRCC_C3L-00088-N_AAACGAAAGCAGGAGG-1   \n",
       "C3L-00088-N_CPT0000890002_snATAC_ccRCC_AAACGAAA...  ccRCC_C3L-00088-N_AAACGAAAGGCACCTC-1   \n",
       "\n",
       "                                                           Sample    Case_ID  \\\n",
       "C3L-00088-N_CPT0000890002_snATAC_ccRCC_AAACGAAA...  CPT0000890002  C3L-00088   \n",
       "C3L-00088-N_CPT0000890002_snATAC_ccRCC_AAACGAAA...  CPT0000890002  C3L-00088   \n",
       "C3L-00088-N_CPT0000890002_snATAC_ccRCC_AAACGAAA...  CPT0000890002  C3L-00088   \n",
       "C3L-00088-N_CPT0000890002_snATAC_ccRCC_AAACGAAA...  CPT0000890002  C3L-00088   \n",
       "C3L-00088-N_CPT0000890002_snATAC_ccRCC_AAACGAAA...  CPT0000890002  C3L-00088   \n",
       "\n",
       "                                                       Piece_ID Sample_type  \\\n",
       "C3L-00088-N_CPT0000890002_snATAC_ccRCC_AAACGAAA...  C3L-00088-N      Normal   \n",
       "C3L-00088-N_CPT0000890002_snATAC_ccRCC_AAACGAAA...  C3L-00088-N      Normal   \n",
       "C3L-00088-N_CPT0000890002_snATAC_ccRCC_AAACGAAA...  C3L-00088-N      Normal   \n",
       "C3L-00088-N_CPT0000890002_snATAC_ccRCC_AAACGAAA...  C3L-00088-N      Normal   \n",
       "C3L-00088-N_CPT0000890002_snATAC_ccRCC_AAACGAAA...  C3L-00088-N      Normal   \n",
       "\n",
       "                                                   data.type Chemistry Cancer  \\\n",
       "C3L-00088-N_CPT0000890002_snATAC_ccRCC_AAACGAAA...    snATAC    snATAC  ccRCC   \n",
       "C3L-00088-N_CPT0000890002_snATAC_ccRCC_AAACGAAA...    snATAC    snATAC  ccRCC   \n",
       "C3L-00088-N_CPT0000890002_snATAC_ccRCC_AAACGAAA...    snATAC    snATAC  ccRCC   \n",
       "C3L-00088-N_CPT0000890002_snATAC_ccRCC_AAACGAAA...    snATAC    snATAC  ccRCC   \n",
       "C3L-00088-N_CPT0000890002_snATAC_ccRCC_AAACGAAA...    snATAC    snATAC  ccRCC   \n",
       "\n",
       "                                                   cell_type.harmonized.cancer  \\\n",
       "C3L-00088-N_CPT0000890002_snATAC_ccRCC_AAACGAAA...     Normal epithelial cells   \n",
       "C3L-00088-N_CPT0000890002_snATAC_ccRCC_AAACGAAA...     Normal epithelial cells   \n",
       "C3L-00088-N_CPT0000890002_snATAC_ccRCC_AAACGAAA...     Normal epithelial cells   \n",
       "C3L-00088-N_CPT0000890002_snATAC_ccRCC_AAACGAAA...     Normal epithelial cells   \n",
       "C3L-00088-N_CPT0000890002_snATAC_ccRCC_AAACGAAA...     Normal epithelial cells   \n",
       "\n",
       "                                                          Aliquot  \\\n",
       "C3L-00088-N_CPT0000890002_snATAC_ccRCC_AAACGAAA...  CPT0000890002   \n",
       "C3L-00088-N_CPT0000890002_snATAC_ccRCC_AAACGAAA...  CPT0000890002   \n",
       "C3L-00088-N_CPT0000890002_snATAC_ccRCC_AAACGAAA...  CPT0000890002   \n",
       "C3L-00088-N_CPT0000890002_snATAC_ccRCC_AAACGAAA...  CPT0000890002   \n",
       "C3L-00088-N_CPT0000890002_snATAC_ccRCC_AAACGAAA...  CPT0000890002   \n",
       "\n",
       "                                                                                    GEO.sample  \n",
       "C3L-00088-N_CPT0000890002_snATAC_ccRCC_AAACGAAA...  C3L-00088-N_CPT0000890002_snATAC_ccRCC_NAT  \n",
       "C3L-00088-N_CPT0000890002_snATAC_ccRCC_AAACGAAA...  C3L-00088-N_CPT0000890002_snATAC_ccRCC_NAT  \n",
       "C3L-00088-N_CPT0000890002_snATAC_ccRCC_AAACGAAA...  C3L-00088-N_CPT0000890002_snATAC_ccRCC_NAT  \n",
       "C3L-00088-N_CPT0000890002_snATAC_ccRCC_AAACGAAA...  C3L-00088-N_CPT0000890002_snATAC_ccRCC_NAT  \n",
       "C3L-00088-N_CPT0000890002_snATAC_ccRCC_AAACGAAA...  C3L-00088-N_CPT0000890002_snATAC_ccRCC_NAT  "
      ]
     },
     "execution_count": 54,
     "metadata": {},
     "output_type": "execute_result"
    }
   ],
   "source": [
    "adata.obs.head()"
   ]
  },
  {
   "cell_type": "code",
   "execution_count": 63,
   "id": "745b65ba",
   "metadata": {},
   "outputs": [
    {
     "data": {
      "text/plain": [
       "['Normal epithelial cells', 'Unknown', 'Macrophages', 'Fibroblasts', 'Low quality', 'T-cells', 'Endothelial', 'Tumor']\n",
       "Categories (8, object): ['Endothelial', 'Fibroblasts', 'Low quality', 'Macrophages', 'Normal epithelial cells', 'T-cells', 'Tumor', 'Unknown']"
      ]
     },
     "execution_count": 63,
     "metadata": {},
     "output_type": "execute_result"
    }
   ],
   "source": [
    "adata.obs['cell_type.harmonized.cancer'].unique()"
   ]
  },
  {
   "cell_type": "code",
   "execution_count": 57,
   "id": "328c609e",
   "metadata": {},
   "outputs": [
    {
     "name": "stdout",
     "output_type": "stream",
     "text": [
      "7383\n",
      "7943\n"
     ]
    }
   ],
   "source": [
    "print(adata[adata.obs['cell_type.harmonized.cancer'] == 'Tumor'].shape[0])\n",
    "print(adata[adata.obs['cell_type.harmonized.cancer'] == 'Normal epithelial cells'].shape[0])\n",
    "# print(adata[adata.obs['cell_type.harmonized.cancer'].str.contains('Normal')].shape[0])"
   ]
  },
  {
   "cell_type": "code",
   "execution_count": 4,
   "id": "15d2ac69",
   "metadata": {},
   "outputs": [
    {
     "name": "stdout",
     "output_type": "stream",
     "text": [
      "Normal epithelial cells: 7943 cells\n",
      "Unknown: 224 cells\n",
      "Macrophages: 436 cells\n",
      "Fibroblasts: 717 cells\n",
      "Low quality: 271 cells\n",
      "T-cells: 617 cells\n",
      "Endothelial: 264 cells\n",
      "Tumor: 7383 cells\n"
     ]
    }
   ],
   "source": [
    "for cell_type in adata.obs['cell_type.harmonized.cancer'].unique():\n",
    "    n_cells = adata[adata.obs['cell_type.harmonized.cancer'] == cell_type].shape[0]\n",
    "    print(f\"{cell_type}: {n_cells} cells\")"
   ]
  },
  {
   "cell_type": "code",
   "execution_count": 11,
   "id": "5bc844df",
   "metadata": {},
   "outputs": [
    {
     "data": {
      "image/png": "[encoded data removed]",
      "text/plain": [
       "<Figure size 500x450 with 1 Axes>"
      ]
     },
     "metadata": {},
     "output_type": "display_data"
    }
   ],
   "source": [
    "import matplotlib.pyplot as plt\n",
    "\n",
    "# 데이터 정의\n",
    "cell_types = [\n",
    "    \"Normal epithelial cells\", \"Unknown\", \"Macrophages\", \"Fibroblasts\",\n",
    "    \"Low quality\", \"T-cells\", \"Endothelial\", \"Tumor\"\n",
    "]\n",
    "counts = [7943, 224, 436, 717, 271, 617, 264, 7383]\n",
    "\n",
    "# 그래프 그리기\n",
    "plt.figure(figsize=(5, 4.5))\n",
    "bars = plt.bar(cell_types, counts)\n",
    "plt.xticks(rotation=45, ha='right')\n",
    "plt.ylabel(\"Number of Cells\")\n",
    "plt.title(\"Cell Type Distribution\")\n",
    "plt.tight_layout()\n",
    "plt.grid(axis='y', linestyle='--', alpha=0.7)\n",
    "\n",
    "# 막대 위에 숫자 표시\n",
    "for bar in bars:\n",
    "    height = bar.get_height()\n",
    "    plt.text(bar.get_x() + bar.get_width()/2.0, height, f'{height}', ha='center', va='bottom', fontsize=8)\n",
    "\n",
    "\n",
    "plt.show()\n"
   ]
  },
  {
   "cell_type": "code",
   "execution_count": 64,
   "id": "756db2fa",
   "metadata": {},
   "outputs": [
    {
     "name": "stdout",
     "output_type": "stream",
     "text": [
      "14817\n",
      "22940\n"
     ]
    }
   ],
   "source": [
    "adata = sc.read_h5ad(\"./raw_h5ad/downsampled_stable_52806.h5ad\")\n",
    "print(adata[adata.obs['cell_type.harmonized.cancer'] == 'Tumor'].shape[0])\n",
    "print(adata[adata.obs['cell_type.harmonized.cancer'] == 'Normal epithelial cells'].shape[0])"
   ]
  },
  {
   "cell_type": "code",
   "execution_count": null,
   "id": "d447125e",
   "metadata": {},
   "outputs": [],
   "source": []
  }
 ],
 "metadata": {
  "kernelspec": {
   "display_name": "venv311",
   "language": "python",
   "name": "python3"
  },
  "language_info": {
   "codemirror_mode": {
    "name": "ipython",
    "version": 3
   },
   "file_extension": ".py",
   "mimetype": "text/x-python",
   "name": "python",
   "nbconvert_exporter": "python",
   "pygments_lexer": "ipython3",
   "version": "3.11.12"
  }
 },
 "nbformat": 4,
 "nbformat_minor": 5
}
