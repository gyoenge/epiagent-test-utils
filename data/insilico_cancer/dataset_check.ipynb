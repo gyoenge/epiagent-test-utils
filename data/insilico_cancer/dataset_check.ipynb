{
 "cells": [
  {
   "cell_type": "code",
   "execution_count": 10,
   "metadata": {},
   "outputs": [],
   "source": [
    "import scanpy as sc"
   ]
  },
  {
   "cell_type": "code",
   "execution_count": 115,
   "metadata": {},
   "outputs": [],
   "source": [
    "adata = sc.read_h5ad(\"./raw_h5ad/C3L-00004-T1_CPT0001540013_snATAC_ccRCC.h5ad\")"
   ]
  },
  {
   "cell_type": "code",
   "execution_count": 100,
   "metadata": {},
   "outputs": [
    {
     "name": "stdout",
     "output_type": "stream",
     "text": [
      "AnnData object with n_obs × n_vars = 364432 × 1355445\n",
      "    obs: 'Merged_barcode', 'Sample', 'Case_ID', 'Piece_ID', 'Sample_type', 'data.type', 'Chemistry', 'Cancer', 'cell_type.harmonized.cancer', 'Aliquot', 'GEO.sample'\n"
     ]
    }
   ],
   "source": [
    "print(adata)"
   ]
  },
  {
   "cell_type": "code",
   "execution_count": 116,
   "id": "8eec8f21",
   "metadata": {},
   "outputs": [
    {
     "name": "stdout",
     "output_type": "stream",
     "text": [
      "                                                   Merged_barcode Sample  \\\n",
      "C3L-00004-T1_CPT0001540013_snATAC_ccRCC_AAACGAA...            nan    nan   \n",
      "C3L-00004-T1_CPT0001540013_snATAC_ccRCC_AAACGAA...            nan    nan   \n",
      "C3L-00004-T1_CPT0001540013_snATAC_ccRCC_AAACGAA...            nan    nan   \n",
      "C3L-00004-T1_CPT0001540013_snATAC_ccRCC_AAACGAA...            nan    nan   \n",
      "C3L-00004-T1_CPT0001540013_snATAC_ccRCC_AAACGAA...            nan    nan   \n",
      "\n",
      "                                                   Case_ID Piece_ID  \\\n",
      "C3L-00004-T1_CPT0001540013_snATAC_ccRCC_AAACGAA...     nan      nan   \n",
      "C3L-00004-T1_CPT0001540013_snATAC_ccRCC_AAACGAA...     nan      nan   \n",
      "C3L-00004-T1_CPT0001540013_snATAC_ccRCC_AAACGAA...     nan      nan   \n",
      "C3L-00004-T1_CPT0001540013_snATAC_ccRCC_AAACGAA...     nan      nan   \n",
      "C3L-00004-T1_CPT0001540013_snATAC_ccRCC_AAACGAA...     nan      nan   \n",
      "\n",
      "                                                   Sample_type data.type  \\\n",
      "C3L-00004-T1_CPT0001540013_snATAC_ccRCC_AAACGAA...         nan       nan   \n",
      "C3L-00004-T1_CPT0001540013_snATAC_ccRCC_AAACGAA...         nan       nan   \n",
      "C3L-00004-T1_CPT0001540013_snATAC_ccRCC_AAACGAA...         nan       nan   \n",
      "C3L-00004-T1_CPT0001540013_snATAC_ccRCC_AAACGAA...         nan       nan   \n",
      "C3L-00004-T1_CPT0001540013_snATAC_ccRCC_AAACGAA...         nan       nan   \n",
      "\n",
      "                                                   Chemistry Cancer  \\\n",
      "C3L-00004-T1_CPT0001540013_snATAC_ccRCC_AAACGAA...       nan    nan   \n",
      "C3L-00004-T1_CPT0001540013_snATAC_ccRCC_AAACGAA...       nan    nan   \n",
      "C3L-00004-T1_CPT0001540013_snATAC_ccRCC_AAACGAA...       nan    nan   \n",
      "C3L-00004-T1_CPT0001540013_snATAC_ccRCC_AAACGAA...       nan    nan   \n",
      "C3L-00004-T1_CPT0001540013_snATAC_ccRCC_AAACGAA...       nan    nan   \n",
      "\n",
      "                                                   cell_type.harmonized.cancer  \\\n",
      "C3L-00004-T1_CPT0001540013_snATAC_ccRCC_AAACGAA...                         nan   \n",
      "C3L-00004-T1_CPT0001540013_snATAC_ccRCC_AAACGAA...                         nan   \n",
      "C3L-00004-T1_CPT0001540013_snATAC_ccRCC_AAACGAA...                         nan   \n",
      "C3L-00004-T1_CPT0001540013_snATAC_ccRCC_AAACGAA...                         nan   \n",
      "C3L-00004-T1_CPT0001540013_snATAC_ccRCC_AAACGAA...                         nan   \n",
      "\n",
      "                                                   Aliquot GEO.sample  \n",
      "C3L-00004-T1_CPT0001540013_snATAC_ccRCC_AAACGAA...     nan        nan  \n",
      "C3L-00004-T1_CPT0001540013_snATAC_ccRCC_AAACGAA...     nan        nan  \n",
      "C3L-00004-T1_CPT0001540013_snATAC_ccRCC_AAACGAA...     nan        nan  \n",
      "C3L-00004-T1_CPT0001540013_snATAC_ccRCC_AAACGAA...     nan        nan  \n",
      "C3L-00004-T1_CPT0001540013_snATAC_ccRCC_AAACGAA...     nan        nan  \n"
     ]
    }
   ],
   "source": [
    "print(adata.obs.head())     # 셀 메타데이터"
   ]
  },
  {
   "cell_type": "code",
   "execution_count": 102,
   "id": "0fdfb556",
   "metadata": {},
   "outputs": [
    {
     "name": "stdout",
     "output_type": "stream",
     "text": [
      "(364432, 1355445)\n"
     ]
    }
   ],
   "source": [
    "print(adata.X.shape)        # count matrix"
   ]
  },
  {
   "cell_type": "code",
   "execution_count": 103,
   "id": "8e49fb2f",
   "metadata": {},
   "outputs": [
    {
     "name": "stdout",
     "output_type": "stream",
     "text": [
      "  (0, 1047481)\t1.0\n"
     ]
    }
   ],
   "source": [
    "print(adata.X[2])"
   ]
  },
  {
   "cell_type": "code",
   "execution_count": 27,
   "id": "8faeaf77",
   "metadata": {},
   "outputs": [
    {
     "name": "stdout",
     "output_type": "stream",
     "text": [
      "C3L-00908-T1_CPT0086350004_snATAC_ccRCC_AAACGAAAGAAACGCC-1\n",
      "nan\n"
     ]
    }
   ],
   "source": [
    "print(adata.obs.index[0]) \n",
    "print(adata.obs['Merged_barcode'][0]) "
   ]
  },
  {
   "cell_type": "code",
   "execution_count": 38,
   "id": "2efd2c97",
   "metadata": {},
   "outputs": [
    {
     "name": "stdout",
     "output_type": "stream",
     "text": [
      "C3L-00908-T1_CPT0086350004_snATAC_ccRCC_AAACGAAAGAAATACC-1\n",
      "nan\n",
      "  (0, 560021)\t1.0\n",
      "  (0, 1295741)\t1.0\n"
     ]
    }
   ],
   "source": [
    "idx = 3\n",
    "print(adata.obs.index[idx]) \n",
    "print(adata.obs['Merged_barcode'][idx]) \n",
    "print(adata.X[idx])     # feature metadata"
   ]
  },
  {
   "cell_type": "code",
   "execution_count": 106,
   "id": "5a73cf49",
   "metadata": {},
   "outputs": [
    {
     "data": {
      "text/plain": [
       "C3N-00242-N_CPT0014470002_snATAC_ccRCC_AAACGAAAGGGTCCCT-1    ccRCC_C3N-00242-N_AAACGAAAGGGTCCCT-1\n",
       "C3N-00242-N_CPT0014470002_snATAC_ccRCC_AAACGAAAGTCTCTAG-1    ccRCC_C3N-00242-N_AAACGAAAGTCTCTAG-1\n",
       "C3N-00242-N_CPT0014470002_snATAC_ccRCC_AAACGAACAGATACAA-1    ccRCC_C3N-00242-N_AAACGAACAGATACAA-1\n",
       "C3N-00242-N_CPT0014470002_snATAC_ccRCC_AAACGAAGTAGCAGGT-1    ccRCC_C3N-00242-N_AAACGAAGTAGCAGGT-1\n",
       "C3N-00242-N_CPT0014470002_snATAC_ccRCC_AAACGAAGTCCCGTGA-1    ccRCC_C3N-00242-N_AAACGAAGTCCCGTGA-1\n",
       "                                                                             ...                 \n",
       "C3N-00242-N_CPT0014470002_snATAC_ccRCC_TTTGTGTCAACTCGAT-1    ccRCC_C3N-00242-N_TTTGTGTCAACTCGAT-1\n",
       "C3N-00242-N_CPT0014470002_snATAC_ccRCC_TTTGTGTCAACTCGTA-1    ccRCC_C3N-00242-N_TTTGTGTCAACTCGTA-1\n",
       "C3N-00242-N_CPT0014470002_snATAC_ccRCC_TTTGTGTCAGAGCCAA-1    ccRCC_C3N-00242-N_TTTGTGTCAGAGCCAA-1\n",
       "C3N-00242-N_CPT0014470002_snATAC_ccRCC_TTTGTGTGTCACAGGA-1    ccRCC_C3N-00242-N_TTTGTGTGTCACAGGA-1\n",
       "C3N-00242-N_CPT0014470002_snATAC_ccRCC_TTTGTGTTCCTCTCTT-1    ccRCC_C3N-00242-N_TTTGTGTTCCTCTCTT-1\n",
       "Name: Merged_barcode, Length: 3707, dtype: category\n",
       "Categories (3708, object): ['ccRCC_C3N-00242-N_AAACGAAAGGGTCCCT-1', 'ccRCC_C3N-00242-N_AAACGAAAGTCTCTAG-1', 'ccRCC_C3N-00242-N_AAACGAACAGATACAA-1', 'ccRCC_C3N-00242-N_AAACGAAGTAGCAGGT-1', ..., 'ccRCC_C3N-00242-N_TTTGTGTCAGAGCCAA-1', 'ccRCC_C3N-00242-N_TTTGTGTGTCACAGGA-1', 'ccRCC_C3N-00242-N_TTTGTGTTCCTCTCTT-1', 'nan']"
      ]
     },
     "execution_count": 106,
     "metadata": {},
     "output_type": "execute_result"
    }
   ],
   "source": [
    "adata.obs['Merged_barcode'][~adata.obs['Merged_barcode'].isna() & (adata.obs['Merged_barcode'].astype(str) != 'nan')]"
   ]
  },
  {
   "cell_type": "code",
   "execution_count": 107,
   "id": "0049a414",
   "metadata": {},
   "outputs": [
    {
     "data": {
      "text/plain": [
       "C3N-00242-N_CPT0014470002_snATAC_ccRCC_AAACGAAAGAAACGCC-1    nan\n",
       "C3N-00242-N_CPT0014470002_snATAC_ccRCC_AAACGAAAGAAAGCAG-1    nan\n",
       "C3N-00242-N_CPT0014470002_snATAC_ccRCC_AAACGAAAGAAAGGGT-1    nan\n",
       "C3N-00242-N_CPT0014470002_snATAC_ccRCC_AAACGAAAGAAATCTG-1    nan\n",
       "C3N-00242-N_CPT0014470002_snATAC_ccRCC_AAACGAAAGAAATGGG-1    nan\n",
       "                                                            ... \n",
       "C3N-00242-N_CPT0014470002_snATAC_ccRCC_TTTGTGTTCTTCTCTC-1    nan\n",
       "C3N-00242-N_CPT0014470002_snATAC_ccRCC_TTTGTGTTCTTCTTCC-1    nan\n",
       "C3N-00242-N_CPT0014470002_snATAC_ccRCC_TTTGTGTTCTTGGCCT-1    nan\n",
       "C3N-00242-N_CPT0014470002_snATAC_ccRCC_TTTGTGTTCTTGTCGC-1    nan\n",
       "C3N-00242-N_CPT0014470002_snATAC_ccRCC_TTTGTGTTCTTTATCG-1    nan\n",
       "Name: Merged_barcode, Length: 360725, dtype: category\n",
       "Categories (3708, object): ['ccRCC_C3N-00242-N_AAACGAAAGGGTCCCT-1', 'ccRCC_C3N-00242-N_AAACGAAAGTCTCTAG-1', 'ccRCC_C3N-00242-N_AAACGAACAGATACAA-1', 'ccRCC_C3N-00242-N_AAACGAAGTAGCAGGT-1', ..., 'ccRCC_C3N-00242-N_TTTGTGTCAGAGCCAA-1', 'ccRCC_C3N-00242-N_TTTGTGTGTCACAGGA-1', 'ccRCC_C3N-00242-N_TTTGTGTTCCTCTCTT-1', 'nan']"
      ]
     },
     "execution_count": 107,
     "metadata": {},
     "output_type": "execute_result"
    }
   ],
   "source": [
    "adata.obs['Merged_barcode'][adata.obs['Merged_barcode'].isna() | (adata.obs['Merged_barcode'].astype(str) == 'nan')]"
   ]
  },
  {
   "cell_type": "code",
   "execution_count": 46,
   "id": "836b5e94",
   "metadata": {},
   "outputs": [
    {
     "data": {
      "text/html": [
       "<div>\n",
       "<style scoped>\n",
       "    .dataframe tbody tr th:only-of-type {\n",
       "        vertical-align: middle;\n",
       "    }\n",
       "\n",
       "    .dataframe tbody tr th {\n",
       "        vertical-align: top;\n",
       "    }\n",
       "\n",
       "    .dataframe thead th {\n",
       "        text-align: right;\n",
       "    }\n",
       "</style>\n",
       "<table border=\"1\" class=\"dataframe\">\n",
       "  <thead>\n",
       "    <tr style=\"text-align: right;\">\n",
       "      <th></th>\n",
       "      <th>Merged_barcode</th>\n",
       "      <th>Sample</th>\n",
       "      <th>Case_ID</th>\n",
       "      <th>Piece_ID</th>\n",
       "      <th>Sample_type</th>\n",
       "      <th>data.type</th>\n",
       "      <th>Chemistry</th>\n",
       "      <th>Cancer</th>\n",
       "      <th>cell_type.harmonized.cancer</th>\n",
       "      <th>Aliquot</th>\n",
       "      <th>GEO.sample</th>\n",
       "    </tr>\n",
       "  </thead>\n",
       "  <tbody>\n",
       "    <tr>\n",
       "      <th>C3L-00908-T1_CPT0086350004_snATAC_ccRCC_AAACGAAAGCCGCTGT-1</th>\n",
       "      <td>ccRCC_C3L-00908-T1_AAACGAAAGCCGCTGT-1</td>\n",
       "      <td>CPT0086350004</td>\n",
       "      <td>C3L-00908</td>\n",
       "      <td>C3L-00908-T1</td>\n",
       "      <td>Tumor</td>\n",
       "      <td>snATAC</td>\n",
       "      <td>snATAC</td>\n",
       "      <td>ccRCC</td>\n",
       "      <td>Macrophages</td>\n",
       "      <td>CPT0086350004</td>\n",
       "      <td>C3L-00908-T1_CPT0086350004_snATAC_ccRCC</td>\n",
       "    </tr>\n",
       "  </tbody>\n",
       "</table>\n",
       "</div>"
      ],
      "text/plain": [
       "                                                                           Merged_barcode  \\\n",
       "C3L-00908-T1_CPT0086350004_snATAC_ccRCC_AAACGAA...  ccRCC_C3L-00908-T1_AAACGAAAGCCGCTGT-1   \n",
       "\n",
       "                                                           Sample    Case_ID  \\\n",
       "C3L-00908-T1_CPT0086350004_snATAC_ccRCC_AAACGAA...  CPT0086350004  C3L-00908   \n",
       "\n",
       "                                                        Piece_ID Sample_type  \\\n",
       "C3L-00908-T1_CPT0086350004_snATAC_ccRCC_AAACGAA...  C3L-00908-T1       Tumor   \n",
       "\n",
       "                                                   data.type Chemistry Cancer  \\\n",
       "C3L-00908-T1_CPT0086350004_snATAC_ccRCC_AAACGAA...    snATAC    snATAC  ccRCC   \n",
       "\n",
       "                                                   cell_type.harmonized.cancer  \\\n",
       "C3L-00908-T1_CPT0086350004_snATAC_ccRCC_AAACGAA...                 Macrophages   \n",
       "\n",
       "                                                          Aliquot  \\\n",
       "C3L-00908-T1_CPT0086350004_snATAC_ccRCC_AAACGAA...  CPT0086350004   \n",
       "\n",
       "                                                                                 GEO.sample  \n",
       "C3L-00908-T1_CPT0086350004_snATAC_ccRCC_AAACGAA...  C3L-00908-T1_CPT0086350004_snATAC_ccRCC  "
      ]
     },
     "execution_count": 46,
     "metadata": {},
     "output_type": "execute_result"
    }
   ],
   "source": [
    "adata.obs[adata.obs['Merged_barcode'] == 'ccRCC_C3L-00908-T1_AAACGAAAGCCGCTGT-1']"
   ]
  },
  {
   "cell_type": "code",
   "execution_count": 64,
   "id": "31f03088",
   "metadata": {},
   "outputs": [
    {
     "data": {
      "text/plain": [
       "View of AnnData object with n_obs × n_vars = 10287 × 1355445\n",
       "    obs: 'Merged_barcode', 'Sample', 'Case_ID', 'Piece_ID', 'Sample_type', 'data.type', 'Chemistry', 'Cancer', 'cell_type.harmonized.cancer', 'Aliquot', 'GEO.sample'"
      ]
     },
     "execution_count": 64,
     "metadata": {},
     "output_type": "execute_result"
    }
   ],
   "source": [
    "adata[~adata.obs['Merged_barcode'].isna()]"
   ]
  },
  {
   "cell_type": "code",
   "execution_count": 50,
   "id": "382ab3ce",
   "metadata": {},
   "outputs": [
    {
     "name": "stdout",
     "output_type": "stream",
     "text": [
      "AnnData object with n_obs × n_vars = 461512 × 1355445\n",
      "    obs: 'Merged_barcode', 'Sample', 'Case_ID', 'Piece_ID', 'Sample_type', 'data.type', 'Chemistry', 'Cancer', 'cell_type.harmonized.cancer', 'Aliquot', 'GEO.sample'\n"
     ]
    }
   ],
   "source": [
    "print(adata)"
   ]
  },
  {
   "cell_type": "code",
   "execution_count": 61,
   "id": "a9b7b7e0",
   "metadata": {},
   "outputs": [
    {
     "data": {
      "text/html": [
       "<div>\n",
       "<style scoped>\n",
       "    .dataframe tbody tr th:only-of-type {\n",
       "        vertical-align: middle;\n",
       "    }\n",
       "\n",
       "    .dataframe tbody tr th {\n",
       "        vertical-align: top;\n",
       "    }\n",
       "\n",
       "    .dataframe thead th {\n",
       "        text-align: right;\n",
       "    }\n",
       "</style>\n",
       "<table border=\"1\" class=\"dataframe\">\n",
       "  <thead>\n",
       "    <tr style=\"text-align: right;\">\n",
       "      <th></th>\n",
       "      <th>Merged_barcode</th>\n",
       "      <th>Sample</th>\n",
       "      <th>Case_ID</th>\n",
       "      <th>Piece_ID</th>\n",
       "      <th>Sample_type</th>\n",
       "      <th>data.type</th>\n",
       "      <th>Chemistry</th>\n",
       "      <th>Cancer</th>\n",
       "      <th>cell_type.harmonized.cancer</th>\n",
       "      <th>Aliquot</th>\n",
       "      <th>GEO.sample</th>\n",
       "    </tr>\n",
       "  </thead>\n",
       "  <tbody>\n",
       "    <tr>\n",
       "      <th>C3L-00908-T1_CPT0086350004_snATAC_ccRCC_AAACGAAAGAAACGCC-1</th>\n",
       "      <td>NaN</td>\n",
       "      <td>NaN</td>\n",
       "      <td>NaN</td>\n",
       "      <td>NaN</td>\n",
       "      <td>NaN</td>\n",
       "      <td>NaN</td>\n",
       "      <td>NaN</td>\n",
       "      <td>NaN</td>\n",
       "      <td>NaN</td>\n",
       "      <td>NaN</td>\n",
       "      <td>NaN</td>\n",
       "    </tr>\n",
       "  </tbody>\n",
       "</table>\n",
       "</div>"
      ],
      "text/plain": [
       "                                                   Merged_barcode Sample  \\\n",
       "C3L-00908-T1_CPT0086350004_snATAC_ccRCC_AAACGAA...            NaN    NaN   \n",
       "\n",
       "                                                   Case_ID Piece_ID  \\\n",
       "C3L-00908-T1_CPT0086350004_snATAC_ccRCC_AAACGAA...     NaN      NaN   \n",
       "\n",
       "                                                   Sample_type data.type  \\\n",
       "C3L-00908-T1_CPT0086350004_snATAC_ccRCC_AAACGAA...         NaN       NaN   \n",
       "\n",
       "                                                   Chemistry Cancer  \\\n",
       "C3L-00908-T1_CPT0086350004_snATAC_ccRCC_AAACGAA...       NaN    NaN   \n",
       "\n",
       "                                                   cell_type.harmonized.cancer  \\\n",
       "C3L-00908-T1_CPT0086350004_snATAC_ccRCC_AAACGAA...                         NaN   \n",
       "\n",
       "                                                   Aliquot GEO.sample  \n",
       "C3L-00908-T1_CPT0086350004_snATAC_ccRCC_AAACGAA...     NaN        NaN  "
      ]
     },
     "execution_count": 61,
     "metadata": {},
     "output_type": "execute_result"
    }
   ],
   "source": [
    "adata.obs[0:1]"
   ]
  },
  {
   "cell_type": "code",
   "execution_count": 65,
   "id": "939a9345",
   "metadata": {},
   "outputs": [
    {
     "data": {
      "text/plain": [
       "View of AnnData object with n_obs × n_vars = 10287 × 1355445\n",
       "    obs: 'Merged_barcode', 'Sample', 'Case_ID', 'Piece_ID', 'Sample_type', 'data.type', 'Chemistry', 'Cancer', 'cell_type.harmonized.cancer', 'Aliquot', 'GEO.sample'"
      ]
     },
     "execution_count": 65,
     "metadata": {},
     "output_type": "execute_result"
    }
   ],
   "source": [
    "adata[~adata.obs['Merged_barcode'].isna()]"
   ]
  },
  {
   "cell_type": "code",
   "execution_count": 67,
   "id": "848c0c51",
   "metadata": {},
   "outputs": [
    {
     "data": {
      "text/plain": [
       "10287"
      ]
     },
     "execution_count": 67,
     "metadata": {},
     "output_type": "execute_result"
    }
   ],
   "source": [
    "adata[~adata.obs['Merged_barcode'].isna()].shape[0]"
   ]
  },
  {
   "cell_type": "code",
   "execution_count": 110,
   "id": "6e5fd084",
   "metadata": {},
   "outputs": [
    {
     "data": {
      "text/plain": [
       "['nan', 'Normal']\n",
       "Categories (2, object): ['Normal', 'nan']"
      ]
     },
     "execution_count": 110,
     "metadata": {},
     "output_type": "execute_result"
    }
   ],
   "source": [
    "adata.obs['Sample_type'].unique()"
   ]
  },
  {
   "cell_type": "code",
   "execution_count": 114,
   "id": "9c273b74",
   "metadata": {},
   "outputs": [
    {
     "name": "stdout",
     "output_type": "stream",
     "text": [
      "Processing 1 : ./raw_h5ad/C3L-00908-T1_CPT0086350004_snATAC_ccRCC.h5ad\n"
     ]
    },
    {
     "name": "stdout",
     "output_type": "stream",
     "text": [
      "| Total : 461512 cells\n",
      "| HasMeta : 10287 cells\n",
      "Processing 2 : ./raw_h5ad/C3L-00917-T1_CPT0023690004_snATAC_ccRCC.h5ad\n",
      "| Total : 348208 cells\n",
      "| HasMeta : 4418 cells\n",
      "Processing 3 : ./raw_h5ad/C3L-01287-T1_CPT0079410004_snATAC_ccRCC.h5ad\n",
      "| Total : 358691 cells\n",
      "| HasMeta : 10266 cells\n",
      "Processing 4 : ./raw_h5ad/C3L-01302-T1_CPT0063630004_snATAC_ccRCC.h5ad\n",
      "| Total : 382996 cells\n",
      "| HasMeta : 5784 cells\n",
      "Processing 5 : ./raw_h5ad/C3L-01313-T1_CPT0086820004_snATAC_ccRCC.h5ad\n",
      "| Total : 461725 cells\n",
      "| HasMeta : 11521 cells\n",
      "Processing 6 : ./raw_h5ad/C3N-00242-N_CPT0014470002_snATAC_ccRCC.h5ad\n",
      "| Total : 364432 cells\n",
      "| HasMeta : 3707 cells\n",
      "Processing 7 : ./raw_h5ad/C3N-00242-T1_CPT0014450005_snATAC_ccRCC.h5ad\n",
      "| Total : 405960 cells\n",
      "| HasMeta : 5233 cells\n",
      "Processing 8 : ./raw_h5ad/C3N-00317-T1_CPT0012280004_snATAC_ccRCC.h5ad\n",
      "| Total : 374023 cells\n",
      "| HasMeta : 8045 cells\n",
      "Processing 9 : ./raw_h5ad/C3N-00437-T1_CPT0012550012_snATAC_ccRCC.h5ad\n",
      "| Total : 323111 cells\n",
      "| HasMeta : 3451 cells\n",
      "Processing 10 : ./raw_h5ad/C3N-00495-T1_CPT0078510004_snATAC_ccRCC.h5ad\n",
      "| Total : 299445 cells\n",
      "| HasMeta : 2174 cells\n",
      "Processing 11 : ./raw_h5ad/C3N-00733-T1_CPT0025880013_snATAC_ccRCC.h5ad\n",
      "| Total : 340657 cells\n",
      "| HasMeta : 5917 cells\n",
      "Processing 12 : ./raw_h5ad/C3N-01200-N_CPT0075170013_snATAC_ccRCC.h5ad\n",
      "| Total : 433893 cells\n",
      "| HasMeta : 15351 cells\n",
      "Processing 13 : ./raw_h5ad/C3N-01200-T1_CPT0075130004_snATAC_ccRCC.h5ad\n",
      "| Total : 437351 cells\n",
      "| HasMeta : 2917 cells\n",
      "Processing 14 : ./raw_h5ad/C3N-01213-T1_CPT0075720013_snATAC_ccRCC.h5ad\n",
      "| Total : 314084 cells\n",
      "| HasMeta : 3176 cells\n",
      "Processing 15 : ./raw_h5ad/C3L-00004-T1_CPT0001540013_snATAC_ccRCC.h5ad\n",
      "| Total : 473073 cells\n",
      "| HasMeta : 6290 cells\n",
      "Processing 16 : ./raw_h5ad/C3L-00010-T1_CPT0001220012_snATAC_ccRCC.h5ad\n",
      "| Total : 307017 cells\n",
      "| HasMeta : 3307 cells\n",
      "Processing 17 : ./raw_h5ad/C3L-00026-T1_CPT0001500003_snATAC_ccRCC.h5ad\n",
      "| Total : 477683 cells\n",
      "| HasMeta : 11586 cells\n",
      "Processing 18 : ./raw_h5ad/C3L-00079-N_CPT0001270002_snATAC_ccRCC.h5ad\n",
      "| Total : 372562 cells\n",
      "| HasMeta : 3378 cells\n",
      "Processing 19 : ./raw_h5ad/C3L-00079-T1_CPT0001260013_snATAC_ccRCC.h5ad\n",
      "| Total : 354350 cells\n",
      "| HasMeta : 4365 cells\n",
      "Processing 20 : ./raw_h5ad/C3L-00088-N_CPT0000890002_snATAC_ccRCC.h5ad\n",
      "| Total : 424677 cells\n",
      "| HasMeta : 9432 cells\n",
      "Processing 21 : ./raw_h5ad/C3L-00088-T1_CPT0000870003_snATAC_ccRCC.h5ad\n",
      "| Total : 340478 cells\n",
      "| HasMeta : 4953 cells\n",
      "Processing 22 : ./raw_h5ad/C3L-00088-T2_CPT0000880001_snATAC_ccRCC.h5ad\n",
      "| Total : 389104 cells\n",
      "| HasMeta : 3470 cells\n",
      "Processing 23 : ./raw_h5ad/C3L-00096-T1_CPT0001180011_snATAC_ccRCC.h5ad\n",
      "| Total : 491834 cells\n",
      "| HasMeta : 7597 cells\n",
      "Processing 24 : ./raw_h5ad/C3L-00416-T2_CPT0010100001_snATAC_ccRCC.h5ad\n",
      "| Total : 371462 cells\n",
      "| HasMeta : 8019 cells\n",
      "Processing 25 : ./raw_h5ad/C3L-00448-T1_CPT0010160004_snATAC_ccRCC.h5ad\n",
      "| Total : 441032 cells\n",
      "| HasMeta : 3899 cells\n",
      "Processing 26 : ./raw_h5ad/C3L-00583-T1_CPT0019130004_snATAC_ccRCC.h5ad\n",
      "| Total : 448362 cells\n",
      "| HasMeta : 7608 cells\n",
      "Processing 27 : ./raw_h5ad/C3L-00610-T1_CPT0025110004_snATAC_ccRCC.h5ad\n",
      "| Total : 390751 cells\n",
      "| HasMeta : 6202 cells\n",
      "Processing 28 : ./raw_h5ad/C3L-00790-T1_CPT0065690004_snATAC_ccRCC.h5ad\n",
      "| Total : 484634 cells\n",
      "| HasMeta : 22800 cells\n",
      "Total cells across all datasets: 11073107\n",
      "Total cells with metadata across all datasets: 195153\n",
      "Total cells with metadata ratio: 1.76%\n"
     ]
    }
   ],
   "source": [
    "import glob, os\n",
    "import scanpy as sc\n",
    "\n",
    "h5ad_files = glob.glob(os.path.join(\"./raw_h5ad\", \"*.h5ad\"))\n",
    "\n",
    "total_cells = 0\n",
    "meta_cells = 0\n",
    "\n",
    "for i, h5ad_path in enumerate(h5ad_files):\n",
    "    print(f\"Processing {i+1} : {h5ad_path}\")\n",
    "    h5ad_adata = sc.read_h5ad(h5ad_path)\n",
    "    total = h5ad_adata.shape[0]\n",
    "    meta = h5ad_adata[~h5ad_adata.obs['Merged_barcode'].isna() & (h5ad_adata.obs['Merged_barcode'].astype(str) != 'nan')].shape[0]\n",
    "    print(f\"| Total : {total} cells\")\n",
    "    print(f\"| HasMeta : {meta} cells\")\n",
    "    total_cells += total\n",
    "    meta_cells += meta\n",
    "\n",
    "print(f\"Total cells across all datasets: {total_cells}\")\n",
    "print(f\"Total cells with metadata across all datasets: {meta_cells}\")\n",
    "print(f\"Total cells with metadata ratio: {meta_cells / total_cells:.2%}\")"
   ]
  },
  {
   "cell_type": "markdown",
   "id": "d004fc1f",
   "metadata": {},
   "source": [
    "## hasmeta integration dataset"
   ]
  },
  {
   "cell_type": "code",
   "execution_count": null,
   "id": "07c5f90e",
   "metadata": {},
   "outputs": [],
   "source": [
    "import scanpy as sc\n",
    "\n",
    "adata = sc.read_h5ad(\"./raw_h5ad/merged_hasmeta_cells.h5ad\")"
   ]
  },
  {
   "cell_type": "code",
   "execution_count": 118,
   "id": "81fe7f12",
   "metadata": {},
   "outputs": [
    {
     "data": {
      "text/html": [
       "<div>\n",
       "<style scoped>\n",
       "    .dataframe tbody tr th:only-of-type {\n",
       "        vertical-align: middle;\n",
       "    }\n",
       "\n",
       "    .dataframe tbody tr th {\n",
       "        vertical-align: top;\n",
       "    }\n",
       "\n",
       "    .dataframe thead th {\n",
       "        text-align: right;\n",
       "    }\n",
       "</style>\n",
       "<table border=\"1\" class=\"dataframe\">\n",
       "  <thead>\n",
       "    <tr style=\"text-align: right;\">\n",
       "      <th></th>\n",
       "      <th>Merged_barcode</th>\n",
       "      <th>Sample</th>\n",
       "      <th>Case_ID</th>\n",
       "      <th>Piece_ID</th>\n",
       "      <th>Sample_type</th>\n",
       "      <th>data.type</th>\n",
       "      <th>Chemistry</th>\n",
       "      <th>Cancer</th>\n",
       "      <th>cell_type.harmonized.cancer</th>\n",
       "      <th>Aliquot</th>\n",
       "      <th>GEO.sample</th>\n",
       "    </tr>\n",
       "  </thead>\n",
       "  <tbody>\n",
       "    <tr>\n",
       "      <th>C3L-00908-T1_CPT0086350004_snATAC_ccRCC_AAACGAAAGCCGCTGT-1</th>\n",
       "      <td>ccRCC_C3L-00908-T1_AAACGAAAGCCGCTGT-1</td>\n",
       "      <td>CPT0086350004</td>\n",
       "      <td>C3L-00908</td>\n",
       "      <td>C3L-00908-T1</td>\n",
       "      <td>Tumor</td>\n",
       "      <td>snATAC</td>\n",
       "      <td>snATAC</td>\n",
       "      <td>ccRCC</td>\n",
       "      <td>Macrophages</td>\n",
       "      <td>CPT0086350004</td>\n",
       "      <td>C3L-00908-T1_CPT0086350004_snATAC_ccRCC</td>\n",
       "    </tr>\n",
       "    <tr>\n",
       "      <th>C3L-00908-T1_CPT0086350004_snATAC_ccRCC_AAACGAAAGCGTGTTT-1</th>\n",
       "      <td>ccRCC_C3L-00908-T1_AAACGAAAGCGTGTTT-1</td>\n",
       "      <td>CPT0086350004</td>\n",
       "      <td>C3L-00908</td>\n",
       "      <td>C3L-00908-T1</td>\n",
       "      <td>Tumor</td>\n",
       "      <td>snATAC</td>\n",
       "      <td>snATAC</td>\n",
       "      <td>ccRCC</td>\n",
       "      <td>Tumor</td>\n",
       "      <td>CPT0086350004</td>\n",
       "      <td>C3L-00908-T1_CPT0086350004_snATAC_ccRCC</td>\n",
       "    </tr>\n",
       "    <tr>\n",
       "      <th>C3L-00908-T1_CPT0086350004_snATAC_ccRCC_AAACGAAAGGCAGATC-1</th>\n",
       "      <td>ccRCC_C3L-00908-T1_AAACGAAAGGCAGATC-1</td>\n",
       "      <td>CPT0086350004</td>\n",
       "      <td>C3L-00908</td>\n",
       "      <td>C3L-00908-T1</td>\n",
       "      <td>Tumor</td>\n",
       "      <td>snATAC</td>\n",
       "      <td>snATAC</td>\n",
       "      <td>ccRCC</td>\n",
       "      <td>Low quality</td>\n",
       "      <td>CPT0086350004</td>\n",
       "      <td>C3L-00908-T1_CPT0086350004_snATAC_ccRCC</td>\n",
       "    </tr>\n",
       "    <tr>\n",
       "      <th>C3L-00908-T1_CPT0086350004_snATAC_ccRCC_AAACGAAAGGCTTAAA-1</th>\n",
       "      <td>ccRCC_C3L-00908-T1_AAACGAAAGGCTTAAA-1</td>\n",
       "      <td>CPT0086350004</td>\n",
       "      <td>C3L-00908</td>\n",
       "      <td>C3L-00908-T1</td>\n",
       "      <td>Tumor</td>\n",
       "      <td>snATAC</td>\n",
       "      <td>snATAC</td>\n",
       "      <td>ccRCC</td>\n",
       "      <td>Macrophages</td>\n",
       "      <td>CPT0086350004</td>\n",
       "      <td>C3L-00908-T1_CPT0086350004_snATAC_ccRCC</td>\n",
       "    </tr>\n",
       "    <tr>\n",
       "      <th>C3L-00908-T1_CPT0086350004_snATAC_ccRCC_AAACGAAAGGGAAGCG-1</th>\n",
       "      <td>ccRCC_C3L-00908-T1_AAACGAAAGGGAAGCG-1</td>\n",
       "      <td>CPT0086350004</td>\n",
       "      <td>C3L-00908</td>\n",
       "      <td>C3L-00908-T1</td>\n",
       "      <td>Tumor</td>\n",
       "      <td>snATAC</td>\n",
       "      <td>snATAC</td>\n",
       "      <td>ccRCC</td>\n",
       "      <td>Tumor</td>\n",
       "      <td>CPT0086350004</td>\n",
       "      <td>C3L-00908-T1_CPT0086350004_snATAC_ccRCC</td>\n",
       "    </tr>\n",
       "  </tbody>\n",
       "</table>\n",
       "</div>"
      ],
      "text/plain": [
       "                                                                           Merged_barcode  \\\n",
       "C3L-00908-T1_CPT0086350004_snATAC_ccRCC_AAACGAA...  ccRCC_C3L-00908-T1_AAACGAAAGCCGCTGT-1   \n",
       "C3L-00908-T1_CPT0086350004_snATAC_ccRCC_AAACGAA...  ccRCC_C3L-00908-T1_AAACGAAAGCGTGTTT-1   \n",
       "C3L-00908-T1_CPT0086350004_snATAC_ccRCC_AAACGAA...  ccRCC_C3L-00908-T1_AAACGAAAGGCAGATC-1   \n",
       "C3L-00908-T1_CPT0086350004_snATAC_ccRCC_AAACGAA...  ccRCC_C3L-00908-T1_AAACGAAAGGCTTAAA-1   \n",
       "C3L-00908-T1_CPT0086350004_snATAC_ccRCC_AAACGAA...  ccRCC_C3L-00908-T1_AAACGAAAGGGAAGCG-1   \n",
       "\n",
       "                                                           Sample    Case_ID  \\\n",
       "C3L-00908-T1_CPT0086350004_snATAC_ccRCC_AAACGAA...  CPT0086350004  C3L-00908   \n",
       "C3L-00908-T1_CPT0086350004_snATAC_ccRCC_AAACGAA...  CPT0086350004  C3L-00908   \n",
       "C3L-00908-T1_CPT0086350004_snATAC_ccRCC_AAACGAA...  CPT0086350004  C3L-00908   \n",
       "C3L-00908-T1_CPT0086350004_snATAC_ccRCC_AAACGAA...  CPT0086350004  C3L-00908   \n",
       "C3L-00908-T1_CPT0086350004_snATAC_ccRCC_AAACGAA...  CPT0086350004  C3L-00908   \n",
       "\n",
       "                                                        Piece_ID Sample_type  \\\n",
       "C3L-00908-T1_CPT0086350004_snATAC_ccRCC_AAACGAA...  C3L-00908-T1       Tumor   \n",
       "C3L-00908-T1_CPT0086350004_snATAC_ccRCC_AAACGAA...  C3L-00908-T1       Tumor   \n",
       "C3L-00908-T1_CPT0086350004_snATAC_ccRCC_AAACGAA...  C3L-00908-T1       Tumor   \n",
       "C3L-00908-T1_CPT0086350004_snATAC_ccRCC_AAACGAA...  C3L-00908-T1       Tumor   \n",
       "C3L-00908-T1_CPT0086350004_snATAC_ccRCC_AAACGAA...  C3L-00908-T1       Tumor   \n",
       "\n",
       "                                                   data.type Chemistry Cancer  \\\n",
       "C3L-00908-T1_CPT0086350004_snATAC_ccRCC_AAACGAA...    snATAC    snATAC  ccRCC   \n",
       "C3L-00908-T1_CPT0086350004_snATAC_ccRCC_AAACGAA...    snATAC    snATAC  ccRCC   \n",
       "C3L-00908-T1_CPT0086350004_snATAC_ccRCC_AAACGAA...    snATAC    snATAC  ccRCC   \n",
       "C3L-00908-T1_CPT0086350004_snATAC_ccRCC_AAACGAA...    snATAC    snATAC  ccRCC   \n",
       "C3L-00908-T1_CPT0086350004_snATAC_ccRCC_AAACGAA...    snATAC    snATAC  ccRCC   \n",
       "\n",
       "                                                   cell_type.harmonized.cancer  \\\n",
       "C3L-00908-T1_CPT0086350004_snATAC_ccRCC_AAACGAA...                 Macrophages   \n",
       "C3L-00908-T1_CPT0086350004_snATAC_ccRCC_AAACGAA...                       Tumor   \n",
       "C3L-00908-T1_CPT0086350004_snATAC_ccRCC_AAACGAA...                 Low quality   \n",
       "C3L-00908-T1_CPT0086350004_snATAC_ccRCC_AAACGAA...                 Macrophages   \n",
       "C3L-00908-T1_CPT0086350004_snATAC_ccRCC_AAACGAA...                       Tumor   \n",
       "\n",
       "                                                          Aliquot  \\\n",
       "C3L-00908-T1_CPT0086350004_snATAC_ccRCC_AAACGAA...  CPT0086350004   \n",
       "C3L-00908-T1_CPT0086350004_snATAC_ccRCC_AAACGAA...  CPT0086350004   \n",
       "C3L-00908-T1_CPT0086350004_snATAC_ccRCC_AAACGAA...  CPT0086350004   \n",
       "C3L-00908-T1_CPT0086350004_snATAC_ccRCC_AAACGAA...  CPT0086350004   \n",
       "C3L-00908-T1_CPT0086350004_snATAC_ccRCC_AAACGAA...  CPT0086350004   \n",
       "\n",
       "                                                                                 GEO.sample  \n",
       "C3L-00908-T1_CPT0086350004_snATAC_ccRCC_AAACGAA...  C3L-00908-T1_CPT0086350004_snATAC_ccRCC  \n",
       "C3L-00908-T1_CPT0086350004_snATAC_ccRCC_AAACGAA...  C3L-00908-T1_CPT0086350004_snATAC_ccRCC  \n",
       "C3L-00908-T1_CPT0086350004_snATAC_ccRCC_AAACGAA...  C3L-00908-T1_CPT0086350004_snATAC_ccRCC  \n",
       "C3L-00908-T1_CPT0086350004_snATAC_ccRCC_AAACGAA...  C3L-00908-T1_CPT0086350004_snATAC_ccRCC  \n",
       "C3L-00908-T1_CPT0086350004_snATAC_ccRCC_AAACGAA...  C3L-00908-T1_CPT0086350004_snATAC_ccRCC  "
      ]
     },
     "execution_count": 118,
     "metadata": {},
     "output_type": "execute_result"
    }
   ],
   "source": [
    "adata.obs.head()"
   ]
  },
  {
   "cell_type": "code",
   "execution_count": 119,
   "id": "c9e4349b",
   "metadata": {},
   "outputs": [
    {
     "data": {
      "text/plain": [
       "(195153, 1355445)"
      ]
     },
     "execution_count": 119,
     "metadata": {},
     "output_type": "execute_result"
    }
   ],
   "source": [
    "adata.shape"
   ]
  },
  {
   "cell_type": "code",
   "execution_count": 120,
   "id": "f12f697f",
   "metadata": {},
   "outputs": [
    {
     "data": {
      "text/plain": [
       "AnnData object with n_obs × n_vars = 195153 × 1355445\n",
       "    obs: 'Merged_barcode', 'Sample', 'Case_ID', 'Piece_ID', 'Sample_type', 'data.type', 'Chemistry', 'Cancer', 'cell_type.harmonized.cancer', 'Aliquot', 'GEO.sample'"
      ]
     },
     "execution_count": 120,
     "metadata": {},
     "output_type": "execute_result"
    }
   ],
   "source": [
    "adata"
   ]
  },
  {
   "cell_type": "markdown",
   "id": "27c8039c",
   "metadata": {},
   "source": [
    "## downsample dataset"
   ]
  },
  {
   "cell_type": "code",
   "execution_count": null,
   "id": "2c1581a8",
   "metadata": {},
   "outputs": [],
   "source": [
    "import scanpy as sc\n",
    "\n",
    "adata = sc.read_h5ad(\"./raw_h5ad/downsampled_train_20000.h5ad\")"
   ]
  },
  {
   "cell_type": "code",
   "execution_count": 122,
   "id": "0bf731dd",
   "metadata": {},
   "outputs": [
    {
     "data": {
      "text/html": [
       "<div>\n",
       "<style scoped>\n",
       "    .dataframe tbody tr th:only-of-type {\n",
       "        vertical-align: middle;\n",
       "    }\n",
       "\n",
       "    .dataframe tbody tr th {\n",
       "        vertical-align: top;\n",
       "    }\n",
       "\n",
       "    .dataframe thead th {\n",
       "        text-align: right;\n",
       "    }\n",
       "</style>\n",
       "<table border=\"1\" class=\"dataframe\">\n",
       "  <thead>\n",
       "    <tr style=\"text-align: right;\">\n",
       "      <th></th>\n",
       "      <th>Merged_barcode</th>\n",
       "      <th>Sample</th>\n",
       "      <th>Case_ID</th>\n",
       "      <th>Piece_ID</th>\n",
       "      <th>Sample_type</th>\n",
       "      <th>data.type</th>\n",
       "      <th>Chemistry</th>\n",
       "      <th>Cancer</th>\n",
       "      <th>cell_type.harmonized.cancer</th>\n",
       "      <th>Aliquot</th>\n",
       "      <th>GEO.sample</th>\n",
       "    </tr>\n",
       "  </thead>\n",
       "  <tbody>\n",
       "    <tr>\n",
       "      <th>C3L-00096-T1_CPT0001180011_snATAC_ccRCC_TGTGACAAGGTTTCTG-1</th>\n",
       "      <td>ccRCC_C3L-00096-T1_TGTGACAAGGTTTCTG-1</td>\n",
       "      <td>CPT0001180011</td>\n",
       "      <td>C3L-00096</td>\n",
       "      <td>C3L-00096-T1</td>\n",
       "      <td>Tumor</td>\n",
       "      <td>snATAC</td>\n",
       "      <td>snATAC</td>\n",
       "      <td>ccRCC</td>\n",
       "      <td>Macrophages</td>\n",
       "      <td>CPT0001180011</td>\n",
       "      <td>C3L-00096-T1_CPT0001180011_snATAC_ccRCC</td>\n",
       "    </tr>\n",
       "    <tr>\n",
       "      <th>C3L-00096-T1_CPT0001180011_snATAC_ccRCC_GCATTCCCACCCTTTG-1</th>\n",
       "      <td>ccRCC_C3L-00096-T1_GCATTCCCACCCTTTG-1</td>\n",
       "      <td>CPT0001180011</td>\n",
       "      <td>C3L-00096</td>\n",
       "      <td>C3L-00096-T1</td>\n",
       "      <td>Tumor</td>\n",
       "      <td>snATAC</td>\n",
       "      <td>snATAC</td>\n",
       "      <td>ccRCC</td>\n",
       "      <td>Low quality</td>\n",
       "      <td>CPT0001180011</td>\n",
       "      <td>C3L-00096-T1_CPT0001180011_snATAC_ccRCC</td>\n",
       "    </tr>\n",
       "    <tr>\n",
       "      <th>C3L-01287-T1_CPT0079410004_snATAC_ccRCC_TCACAGAGTGAGTAAT-1</th>\n",
       "      <td>ccRCC_C3L-01287-T1_TCACAGAGTGAGTAAT-1</td>\n",
       "      <td>CPT0079410004</td>\n",
       "      <td>C3L-01287</td>\n",
       "      <td>C3L-01287-T1</td>\n",
       "      <td>Tumor</td>\n",
       "      <td>snATAC</td>\n",
       "      <td>snATAC</td>\n",
       "      <td>ccRCC</td>\n",
       "      <td>Fibroblasts</td>\n",
       "      <td>CPT0079410004</td>\n",
       "      <td>C3L-01287-T1_CPT0079410004_snATAC_ccRCC</td>\n",
       "    </tr>\n",
       "    <tr>\n",
       "      <th>C3L-00079-N_CPT0001270002_snATAC_ccRCC_CACGTTCCAGAGTCGA-1</th>\n",
       "      <td>ccRCC_C3L-00079-N_CACGTTCCAGAGTCGA-1</td>\n",
       "      <td>CPT0001270002</td>\n",
       "      <td>C3L-00079</td>\n",
       "      <td>C3L-00079-N</td>\n",
       "      <td>Normal</td>\n",
       "      <td>snATAC</td>\n",
       "      <td>snATAC</td>\n",
       "      <td>ccRCC</td>\n",
       "      <td>T-cells</td>\n",
       "      <td>CPT0001270002</td>\n",
       "      <td>C3L-00079-N_CPT0001270002_snATAC_ccRCC_NAT</td>\n",
       "    </tr>\n",
       "    <tr>\n",
       "      <th>C3L-00416-T2_CPT0010100001_snATAC_ccRCC_CTAGCGGTCGGTCTCT-1</th>\n",
       "      <td>ccRCC_C3L-00416-T2_CTAGCGGTCGGTCTCT-1</td>\n",
       "      <td>CPT0010100001</td>\n",
       "      <td>C3L-00416</td>\n",
       "      <td>C3L-00416-T2</td>\n",
       "      <td>Tumor</td>\n",
       "      <td>snATAC</td>\n",
       "      <td>snATAC</td>\n",
       "      <td>ccRCC</td>\n",
       "      <td>T-cells</td>\n",
       "      <td>CPT0010100001</td>\n",
       "      <td>C3L-00416-T2_CPT0010100001_snATAC_ccRCC</td>\n",
       "    </tr>\n",
       "  </tbody>\n",
       "</table>\n",
       "</div>"
      ],
      "text/plain": [
       "                                                                           Merged_barcode  \\\n",
       "C3L-00096-T1_CPT0001180011_snATAC_ccRCC_TGTGACA...  ccRCC_C3L-00096-T1_TGTGACAAGGTTTCTG-1   \n",
       "C3L-00096-T1_CPT0001180011_snATAC_ccRCC_GCATTCC...  ccRCC_C3L-00096-T1_GCATTCCCACCCTTTG-1   \n",
       "C3L-01287-T1_CPT0079410004_snATAC_ccRCC_TCACAGA...  ccRCC_C3L-01287-T1_TCACAGAGTGAGTAAT-1   \n",
       "C3L-00079-N_CPT0001270002_snATAC_ccRCC_CACGTTCC...   ccRCC_C3L-00079-N_CACGTTCCAGAGTCGA-1   \n",
       "C3L-00416-T2_CPT0010100001_snATAC_ccRCC_CTAGCGG...  ccRCC_C3L-00416-T2_CTAGCGGTCGGTCTCT-1   \n",
       "\n",
       "                                                           Sample    Case_ID  \\\n",
       "C3L-00096-T1_CPT0001180011_snATAC_ccRCC_TGTGACA...  CPT0001180011  C3L-00096   \n",
       "C3L-00096-T1_CPT0001180011_snATAC_ccRCC_GCATTCC...  CPT0001180011  C3L-00096   \n",
       "C3L-01287-T1_CPT0079410004_snATAC_ccRCC_TCACAGA...  CPT0079410004  C3L-01287   \n",
       "C3L-00079-N_CPT0001270002_snATAC_ccRCC_CACGTTCC...  CPT0001270002  C3L-00079   \n",
       "C3L-00416-T2_CPT0010100001_snATAC_ccRCC_CTAGCGG...  CPT0010100001  C3L-00416   \n",
       "\n",
       "                                                        Piece_ID Sample_type  \\\n",
       "C3L-00096-T1_CPT0001180011_snATAC_ccRCC_TGTGACA...  C3L-00096-T1       Tumor   \n",
       "C3L-00096-T1_CPT0001180011_snATAC_ccRCC_GCATTCC...  C3L-00096-T1       Tumor   \n",
       "C3L-01287-T1_CPT0079410004_snATAC_ccRCC_TCACAGA...  C3L-01287-T1       Tumor   \n",
       "C3L-00079-N_CPT0001270002_snATAC_ccRCC_CACGTTCC...   C3L-00079-N      Normal   \n",
       "C3L-00416-T2_CPT0010100001_snATAC_ccRCC_CTAGCGG...  C3L-00416-T2       Tumor   \n",
       "\n",
       "                                                   data.type Chemistry Cancer  \\\n",
       "C3L-00096-T1_CPT0001180011_snATAC_ccRCC_TGTGACA...    snATAC    snATAC  ccRCC   \n",
       "C3L-00096-T1_CPT0001180011_snATAC_ccRCC_GCATTCC...    snATAC    snATAC  ccRCC   \n",
       "C3L-01287-T1_CPT0079410004_snATAC_ccRCC_TCACAGA...    snATAC    snATAC  ccRCC   \n",
       "C3L-00079-N_CPT0001270002_snATAC_ccRCC_CACGTTCC...    snATAC    snATAC  ccRCC   \n",
       "C3L-00416-T2_CPT0010100001_snATAC_ccRCC_CTAGCGG...    snATAC    snATAC  ccRCC   \n",
       "\n",
       "                                                   cell_type.harmonized.cancer  \\\n",
       "C3L-00096-T1_CPT0001180011_snATAC_ccRCC_TGTGACA...                 Macrophages   \n",
       "C3L-00096-T1_CPT0001180011_snATAC_ccRCC_GCATTCC...                 Low quality   \n",
       "C3L-01287-T1_CPT0079410004_snATAC_ccRCC_TCACAGA...                 Fibroblasts   \n",
       "C3L-00079-N_CPT0001270002_snATAC_ccRCC_CACGTTCC...                     T-cells   \n",
       "C3L-00416-T2_CPT0010100001_snATAC_ccRCC_CTAGCGG...                     T-cells   \n",
       "\n",
       "                                                          Aliquot  \\\n",
       "C3L-00096-T1_CPT0001180011_snATAC_ccRCC_TGTGACA...  CPT0001180011   \n",
       "C3L-00096-T1_CPT0001180011_snATAC_ccRCC_GCATTCC...  CPT0001180011   \n",
       "C3L-01287-T1_CPT0079410004_snATAC_ccRCC_TCACAGA...  CPT0079410004   \n",
       "C3L-00079-N_CPT0001270002_snATAC_ccRCC_CACGTTCC...  CPT0001270002   \n",
       "C3L-00416-T2_CPT0010100001_snATAC_ccRCC_CTAGCGG...  CPT0010100001   \n",
       "\n",
       "                                                                                    GEO.sample  \n",
       "C3L-00096-T1_CPT0001180011_snATAC_ccRCC_TGTGACA...     C3L-00096-T1_CPT0001180011_snATAC_ccRCC  \n",
       "C3L-00096-T1_CPT0001180011_snATAC_ccRCC_GCATTCC...     C3L-00096-T1_CPT0001180011_snATAC_ccRCC  \n",
       "C3L-01287-T1_CPT0079410004_snATAC_ccRCC_TCACAGA...     C3L-01287-T1_CPT0079410004_snATAC_ccRCC  \n",
       "C3L-00079-N_CPT0001270002_snATAC_ccRCC_CACGTTCC...  C3L-00079-N_CPT0001270002_snATAC_ccRCC_NAT  \n",
       "C3L-00416-T2_CPT0010100001_snATAC_ccRCC_CTAGCGG...     C3L-00416-T2_CPT0010100001_snATAC_ccRCC  "
      ]
     },
     "execution_count": 122,
     "metadata": {},
     "output_type": "execute_result"
    }
   ],
   "source": [
    "adata.obs.head()"
   ]
  },
  {
   "cell_type": "code",
   "execution_count": 123,
   "id": "814eee60",
   "metadata": {},
   "outputs": [
    {
     "data": {
      "text/plain": [
       "['Tumor', 'Normal']\n",
       "Categories (2, object): ['Normal', 'Tumor']"
      ]
     },
     "execution_count": 123,
     "metadata": {},
     "output_type": "execute_result"
    }
   ],
   "source": [
    "adata.obs['Sample_type'].unique()"
   ]
  },
  {
   "cell_type": "code",
   "execution_count": 124,
   "id": "35e7001a",
   "metadata": {},
   "outputs": [
    {
     "name": "stdout",
     "output_type": "stream",
     "text": [
      "3273\n",
      "16727\n"
     ]
    }
   ],
   "source": [
    "print((adata.obs['Sample_type'] == 'Normal').sum())\n",
    "print((adata.obs['Sample_type'] == 'Tumor').sum())"
   ]
  },
  {
   "cell_type": "markdown",
   "id": "762f217b",
   "metadata": {},
   "source": [
    "## After cell-sentencing"
   ]
  },
  {
   "cell_type": "code",
   "execution_count": 125,
   "id": "5ba072c8",
   "metadata": {},
   "outputs": [],
   "source": [
    "import scanpy as sc\n",
    "\n",
    "adata = sc.read_h5ad(\"./processed_h5ad/downsampled_train_20000_cellsentenced.h5ad\")"
   ]
  },
  {
   "cell_type": "code",
   "execution_count": 126,
   "id": "3fa7bdca",
   "metadata": {},
   "outputs": [
    {
     "data": {
      "text/html": [
       "<div>\n",
       "<style scoped>\n",
       "    .dataframe tbody tr th:only-of-type {\n",
       "        vertical-align: middle;\n",
       "    }\n",
       "\n",
       "    .dataframe tbody tr th {\n",
       "        vertical-align: top;\n",
       "    }\n",
       "\n",
       "    .dataframe thead th {\n",
       "        text-align: right;\n",
       "    }\n",
       "</style>\n",
       "<table border=\"1\" class=\"dataframe\">\n",
       "  <thead>\n",
       "    <tr style=\"text-align: right;\">\n",
       "      <th></th>\n",
       "      <th>Merged_barcode</th>\n",
       "      <th>Sample</th>\n",
       "      <th>Case_ID</th>\n",
       "      <th>Piece_ID</th>\n",
       "      <th>Sample_type</th>\n",
       "      <th>data.type</th>\n",
       "      <th>Chemistry</th>\n",
       "      <th>Cancer</th>\n",
       "      <th>cell_type.harmonized.cancer</th>\n",
       "      <th>Aliquot</th>\n",
       "      <th>GEO.sample</th>\n",
       "      <th>cell_sentences</th>\n",
       "    </tr>\n",
       "  </thead>\n",
       "  <tbody>\n",
       "    <tr>\n",
       "      <th>C3L-00096-T1_CPT0001180011_snATAC_ccRCC_TGTGACAAGGTTTCTG-1</th>\n",
       "      <td>ccRCC_C3L-00096-T1_TGTGACAAGGTTTCTG-1</td>\n",
       "      <td>CPT0001180011</td>\n",
       "      <td>C3L-00096</td>\n",
       "      <td>C3L-00096-T1</td>\n",
       "      <td>Tumor</td>\n",
       "      <td>snATAC</td>\n",
       "      <td>snATAC</td>\n",
       "      <td>ccRCC</td>\n",
       "      <td>Macrophages</td>\n",
       "      <td>CPT0001180011</td>\n",
       "      <td>C3L-00096-T1_CPT0001180011_snATAC_ccRCC</td>\n",
       "      <td>[1294299,568455,615004,568830,743260,434716,59...</td>\n",
       "    </tr>\n",
       "    <tr>\n",
       "      <th>C3L-00096-T1_CPT0001180011_snATAC_ccRCC_GCATTCCCACCCTTTG-1</th>\n",
       "      <td>ccRCC_C3L-00096-T1_GCATTCCCACCCTTTG-1</td>\n",
       "      <td>CPT0001180011</td>\n",
       "      <td>C3L-00096</td>\n",
       "      <td>C3L-00096-T1</td>\n",
       "      <td>Tumor</td>\n",
       "      <td>snATAC</td>\n",
       "      <td>snATAC</td>\n",
       "      <td>ccRCC</td>\n",
       "      <td>Low quality</td>\n",
       "      <td>CPT0001180011</td>\n",
       "      <td>C3L-00096-T1_CPT0001180011_snATAC_ccRCC</td>\n",
       "      <td>[729597,559931,879947,1235488,615046,884299,61...</td>\n",
       "    </tr>\n",
       "    <tr>\n",
       "      <th>C3L-01287-T1_CPT0079410004_snATAC_ccRCC_TCACAGAGTGAGTAAT-1</th>\n",
       "      <td>ccRCC_C3L-01287-T1_TCACAGAGTGAGTAAT-1</td>\n",
       "      <td>CPT0079410004</td>\n",
       "      <td>C3L-01287</td>\n",
       "      <td>C3L-01287-T1</td>\n",
       "      <td>Tumor</td>\n",
       "      <td>snATAC</td>\n",
       "      <td>snATAC</td>\n",
       "      <td>ccRCC</td>\n",
       "      <td>Fibroblasts</td>\n",
       "      <td>CPT0079410004</td>\n",
       "      <td>C3L-01287-T1_CPT0079410004_snATAC_ccRCC</td>\n",
       "      <td>[1138828,59826,210507,651710,574008,435435,115...</td>\n",
       "    </tr>\n",
       "    <tr>\n",
       "      <th>C3L-00079-N_CPT0001270002_snATAC_ccRCC_CACGTTCCAGAGTCGA-1</th>\n",
       "      <td>ccRCC_C3L-00079-N_CACGTTCCAGAGTCGA-1</td>\n",
       "      <td>CPT0001270002</td>\n",
       "      <td>C3L-00079</td>\n",
       "      <td>C3L-00079-N</td>\n",
       "      <td>Normal</td>\n",
       "      <td>snATAC</td>\n",
       "      <td>snATAC</td>\n",
       "      <td>ccRCC</td>\n",
       "      <td>T-cells</td>\n",
       "      <td>CPT0001270002</td>\n",
       "      <td>C3L-00079-N_CPT0001270002_snATAC_ccRCC_NAT</td>\n",
       "      <td>[82158,38670,554411,1254365,20208,180373,64221...</td>\n",
       "    </tr>\n",
       "    <tr>\n",
       "      <th>C3L-00416-T2_CPT0010100001_snATAC_ccRCC_CTAGCGGTCGGTCTCT-1</th>\n",
       "      <td>ccRCC_C3L-00416-T2_CTAGCGGTCGGTCTCT-1</td>\n",
       "      <td>CPT0010100001</td>\n",
       "      <td>C3L-00416</td>\n",
       "      <td>C3L-00416-T2</td>\n",
       "      <td>Tumor</td>\n",
       "      <td>snATAC</td>\n",
       "      <td>snATAC</td>\n",
       "      <td>ccRCC</td>\n",
       "      <td>T-cells</td>\n",
       "      <td>CPT0010100001</td>\n",
       "      <td>C3L-00416-T2_CPT0010100001_snATAC_ccRCC</td>\n",
       "      <td>[216575,859871,1067032,1299767,1097226,1268471...</td>\n",
       "    </tr>\n",
       "  </tbody>\n",
       "</table>\n",
       "</div>"
      ],
      "text/plain": [
       "                                                                           Merged_barcode  \\\n",
       "C3L-00096-T1_CPT0001180011_snATAC_ccRCC_TGTGACA...  ccRCC_C3L-00096-T1_TGTGACAAGGTTTCTG-1   \n",
       "C3L-00096-T1_CPT0001180011_snATAC_ccRCC_GCATTCC...  ccRCC_C3L-00096-T1_GCATTCCCACCCTTTG-1   \n",
       "C3L-01287-T1_CPT0079410004_snATAC_ccRCC_TCACAGA...  ccRCC_C3L-01287-T1_TCACAGAGTGAGTAAT-1   \n",
       "C3L-00079-N_CPT0001270002_snATAC_ccRCC_CACGTTCC...   ccRCC_C3L-00079-N_CACGTTCCAGAGTCGA-1   \n",
       "C3L-00416-T2_CPT0010100001_snATAC_ccRCC_CTAGCGG...  ccRCC_C3L-00416-T2_CTAGCGGTCGGTCTCT-1   \n",
       "\n",
       "                                                           Sample    Case_ID  \\\n",
       "C3L-00096-T1_CPT0001180011_snATAC_ccRCC_TGTGACA...  CPT0001180011  C3L-00096   \n",
       "C3L-00096-T1_CPT0001180011_snATAC_ccRCC_GCATTCC...  CPT0001180011  C3L-00096   \n",
       "C3L-01287-T1_CPT0079410004_snATAC_ccRCC_TCACAGA...  CPT0079410004  C3L-01287   \n",
       "C3L-00079-N_CPT0001270002_snATAC_ccRCC_CACGTTCC...  CPT0001270002  C3L-00079   \n",
       "C3L-00416-T2_CPT0010100001_snATAC_ccRCC_CTAGCGG...  CPT0010100001  C3L-00416   \n",
       "\n",
       "                                                        Piece_ID Sample_type  \\\n",
       "C3L-00096-T1_CPT0001180011_snATAC_ccRCC_TGTGACA...  C3L-00096-T1       Tumor   \n",
       "C3L-00096-T1_CPT0001180011_snATAC_ccRCC_GCATTCC...  C3L-00096-T1       Tumor   \n",
       "C3L-01287-T1_CPT0079410004_snATAC_ccRCC_TCACAGA...  C3L-01287-T1       Tumor   \n",
       "C3L-00079-N_CPT0001270002_snATAC_ccRCC_CACGTTCC...   C3L-00079-N      Normal   \n",
       "C3L-00416-T2_CPT0010100001_snATAC_ccRCC_CTAGCGG...  C3L-00416-T2       Tumor   \n",
       "\n",
       "                                                   data.type Chemistry Cancer  \\\n",
       "C3L-00096-T1_CPT0001180011_snATAC_ccRCC_TGTGACA...    snATAC    snATAC  ccRCC   \n",
       "C3L-00096-T1_CPT0001180011_snATAC_ccRCC_GCATTCC...    snATAC    snATAC  ccRCC   \n",
       "C3L-01287-T1_CPT0079410004_snATAC_ccRCC_TCACAGA...    snATAC    snATAC  ccRCC   \n",
       "C3L-00079-N_CPT0001270002_snATAC_ccRCC_CACGTTCC...    snATAC    snATAC  ccRCC   \n",
       "C3L-00416-T2_CPT0010100001_snATAC_ccRCC_CTAGCGG...    snATAC    snATAC  ccRCC   \n",
       "\n",
       "                                                   cell_type.harmonized.cancer  \\\n",
       "C3L-00096-T1_CPT0001180011_snATAC_ccRCC_TGTGACA...                 Macrophages   \n",
       "C3L-00096-T1_CPT0001180011_snATAC_ccRCC_GCATTCC...                 Low quality   \n",
       "C3L-01287-T1_CPT0079410004_snATAC_ccRCC_TCACAGA...                 Fibroblasts   \n",
       "C3L-00079-N_CPT0001270002_snATAC_ccRCC_CACGTTCC...                     T-cells   \n",
       "C3L-00416-T2_CPT0010100001_snATAC_ccRCC_CTAGCGG...                     T-cells   \n",
       "\n",
       "                                                          Aliquot  \\\n",
       "C3L-00096-T1_CPT0001180011_snATAC_ccRCC_TGTGACA...  CPT0001180011   \n",
       "C3L-00096-T1_CPT0001180011_snATAC_ccRCC_GCATTCC...  CPT0001180011   \n",
       "C3L-01287-T1_CPT0079410004_snATAC_ccRCC_TCACAGA...  CPT0079410004   \n",
       "C3L-00079-N_CPT0001270002_snATAC_ccRCC_CACGTTCC...  CPT0001270002   \n",
       "C3L-00416-T2_CPT0010100001_snATAC_ccRCC_CTAGCGG...  CPT0010100001   \n",
       "\n",
       "                                                                                    GEO.sample  \\\n",
       "C3L-00096-T1_CPT0001180011_snATAC_ccRCC_TGTGACA...     C3L-00096-T1_CPT0001180011_snATAC_ccRCC   \n",
       "C3L-00096-T1_CPT0001180011_snATAC_ccRCC_GCATTCC...     C3L-00096-T1_CPT0001180011_snATAC_ccRCC   \n",
       "C3L-01287-T1_CPT0079410004_snATAC_ccRCC_TCACAGA...     C3L-01287-T1_CPT0079410004_snATAC_ccRCC   \n",
       "C3L-00079-N_CPT0001270002_snATAC_ccRCC_CACGTTCC...  C3L-00079-N_CPT0001270002_snATAC_ccRCC_NAT   \n",
       "C3L-00416-T2_CPT0010100001_snATAC_ccRCC_CTAGCGG...     C3L-00416-T2_CPT0010100001_snATAC_ccRCC   \n",
       "\n",
       "                                                                                       cell_sentences  \n",
       "C3L-00096-T1_CPT0001180011_snATAC_ccRCC_TGTGACA...  [1294299,568455,615004,568830,743260,434716,59...  \n",
       "C3L-00096-T1_CPT0001180011_snATAC_ccRCC_GCATTCC...  [729597,559931,879947,1235488,615046,884299,61...  \n",
       "C3L-01287-T1_CPT0079410004_snATAC_ccRCC_TCACAGA...  [1138828,59826,210507,651710,574008,435435,115...  \n",
       "C3L-00079-N_CPT0001270002_snATAC_ccRCC_CACGTTCC...  [82158,38670,554411,1254365,20208,180373,64221...  \n",
       "C3L-00416-T2_CPT0010100001_snATAC_ccRCC_CTAGCGG...  [216575,859871,1067032,1299767,1097226,1268471...  "
      ]
     },
     "execution_count": 126,
     "metadata": {},
     "output_type": "execute_result"
    }
   ],
   "source": [
    "adata.obs.head()"
   ]
  },
  {
   "cell_type": "code",
   "execution_count": 127,
   "id": "a9f6b96f",
   "metadata": {},
   "outputs": [
    {
     "data": {
      "text/plain": [
       "'[1294299,568455,615004,568830,743260,434716,598986,557251,596455,1157243,727287,571020,295665,1005013,405411,438369,550585,822860,129350,173929,312017,1299722,88815,624675,356164,758304,950284,156931,463077,740837,172423,1222590,559566,1306790,963871,355806,571483,493116,163742,571288,952054,34565,422071,119341,574572,2094,629954,313867,574571,448723,658728,351971,574326,831861,62929,667574,449403,107372,682591,572588,833469,557102,213822,1280220,395394,221548,646575,518479,696983,144445,395695,555938,109020,417137,1250953,552052,555299,467517,89584,767640,555579,884023,470200,271317,582300,395962,898861,591455,582349,1235747,591388,586674,574789,1234517,886480,575282,555220,1189546,550958,500695,633056,513313,501544,146490,51819,146147,1013725,502451,502808,439887,455934,1077773,305713,667267,135461,1052764,243344,668448,681745,450785,682284,682444,628994,682470,460242,500511,601388,601525,550957,421460,602083,1193402,742465,549764,557501,548368,1188112,157616,968343,540054,115725,1148132,35696,261814,323317,118256,118645,619513,150192,628160,291272,96331,66659,354581,276133,472357,356815,209397,209355,354972,472444,567235,479880,567367,202458,387593,2115,1303330,567618,272776,1311004,208530,381004,559154,92233,568875,1309359,825708,473517,561821,472142,210067,851072,472009,16371,366154,566358,557864,716346,624394,719463,496274,495488,620377,451530,619755,723153,2944,356479,568844,979475,495487,715014,509214,322829,1001648,710583,630700,119589,252350,460241,148261,521925,568128,1311035,712459,433294,1047354,1107762,39636,986412,103123,528492,619379,1329680,1101288,36028,36012,425768,1139703,391492,738417,233784,103461,233783,461969,3121,103493,34959,232330,478198,541914,614583,460760,463,425783,535083,1126788,36634,535088,826896,1127717,618644,493860,376368,494620,153185,1043014,1133493,476059,494364,1045449,494837,152661,567874,500789,310132,69905,69933,1024241,652162,510809,1317409,368961,689953,511714,692010,124215,360056,438429,240236,249908,567162,1313523,653537,444853,1053130,67828,685599,1063637,508439,565064,209493,688899,565051,137906,243132,130185,566994,138269,1026381,1071558,449153,1090570,1343537,646831,565497,705030,473093,1095360,1005152,477427,250198,436856,477530,681428,1098170,633827,1312625,2193,237283,500790,513171,638429,501962,681007,1052250,134730,646830,144067,1038499,366062,509213,437514,304761,437398,244364,641219,1013724,145936,512767,640201,437216,79517,1313331,353479,541915,822631,24059,109278,408299,554064,554138,408298,591050,571713,341727,584892,272274,343895,109245,14305,405259,866731,581154,591350,491763,416319,11341,558244,1209515,219264,268610,899549,822698,1213978,896684,412865,493039,1217845,569229,87566,571513,493047,210882,881323,404584,89694,388642,556774,1275912,89479,388684,183369,556346,791816,801276,107450,214147,573575,18804,573430,481596,393455,404628,574535,89464,270232,572118,211529,179093,401580,1297210,270246,181973,1295119,555898,814116,575220,387240,572384,214914,104796,555815,219666,26084,571282,607887,607760,419344,205747,224437,1203904,742135,29024,1203903,267831,547988,80836,272482,1307057,472736,478722,420245,379869,464121,80733,379610,159424,550487,601885,205513,601928,327715,464948,28796,328102,1172727,968084,220875,472986,608651,162758,32596,422109,1304331,602487,418782,1307206,608224,157408,967453,812755,769398,736119,103462,245614,802577,482536,825405,815698,476203,129311,128279,825707,766009,825406,688820,832931,482419,129399,814115,272610,683587,789898,130816,686725,686765,262986,687071,493543,272630,271186,484060,738557,565610,736495,812756,270851,493507,258299,718934,492155,496665,121023,103031,121022,501541,823942,707694,823245,272477,708543,745418,745753,493064,111704,493082,268407,500570,823246,747438,710668,747220,493233,477646,103119,709663,271810,757107,121380,825126,127512,485760,689067,486283,103984,762239,691908,746810,695106,695107,270095,496115,819216,744836,726395,726358,495320,697242,121436,479056,490623,831666,824425,118674,822477,490550,737229,838922,682130,579853,554862,578912,577632,555131,576588,555433,555434,555540,180866,181142,575112,556217,556500,556801,574026,574022,573914,214207,573876,573875,214196,573574,573563,187306,557733,572785,579984,557787,177155,554573,552412,162826,163162,552668,596020,595836,552673,595562,595215,594749,219426,218178,165168,592542,592541,167689,167974,591957,591498,169013,169334,590549,172747,589778,216356,554522,582040,215808,161882,572589,191170,210115,569425,569335,569276,206176,569079,569070,207133,209987,560084,560207,568338,560835,567899,567880,567655,209105,561686,209301,567168,564731,567078,567068,567027,565993,565923,209681,559359,572556,205470,210165,192520,572397,557926,572241,572176,211530,572120,572054,571935,571916,211183,571821,571702,558154,558212,571534,202736,202931,558495,571144,570781,570771,558844,570374,559115,569956,559229,569672,245519,599418,600960,648590,512559,512560,648027,144119,643194,144372,642226,641986,640584,639102,239395,638413,513027,513035,146587,513172,513261,634940,513433,633754,632861,147287,518661,518679,632554,519200,512129,631851,142949,650251,509301,132081,679854,674472,668099,510371,243283,661267,660571,510473,659133,136830,659087,137565,510522,510557,656789,139965,653685,510634,653327,652253,510698,510763,242244,142392,510923,512128,551162,631153,148016,615419,536285,536505,537525,538785,155691,539239,156138,156234,156492,230805,157074,157178,609783,542164,608319,607757,227344,605385,605111,604865,550669,160036,601573,160985,224636,161137,615680,237033,535960,152859,236883,630199,236778,522956,627155,626806,523023,624827,624612,624530,149292,476015,623765,533454,236731,621185,620997,620269,150190,151459,534350,619152,534751,618991,618731,236185,535162,535666,236747,565692,475944,36433,36438,36478,323245,1130416,1130415,36579,426353,1127716,1127029,426945,1126350,322830,1123591,1117780,428656,1112653,1112652,322161,38554,1111371,429221,38670,848809,1110643,38855,429675,1136249,1137046,1138746,325220,420221,1196681,1196291,327368,1193466,1193436,29732,1192687,29749,1191725,421575,1191476,1188668,1107868,29929,31763,1182821,422622,423375,1172794,423376,326199,423751,34677,1148728,1148564,326105,325232,30449,433864,433917,44515,1084018,1082406,440967,58460,441578,444247,58667,58747,311410,449114,1066930,1065698,449242,1084736,449402,1053893,1052848,1052847,1052840,1052682,309731,449533,1049312,1049311,64593,1047420,449974,449991,310133,420171,1084987,440025,317827,46231,1103450,434957,317141,46948,48903,436487,1099376,1098367,316633,51689,51690,440026,1097882,52388,1093928,55554,1093049,1092474,56052,56053,1090999,1090998,1090652,56751,1089864,438430,51985,1203776,420170,1204159,1306380,1306292,1306227,1306225,380623,10518,355751,381028,11000,11222,1304027,11372,382559,1306861,383647,385990,1303237,386222,1303228,386384,1303166,1303150,386412,1289057,387779,387877,1288012,16348,385796,16459,355862,3177,1352815,1351247,1334687,366417,1320172,1607,368498,1993,369173,370421,2099,1313459,1313458,3697,1313348,356588,2218,356555,375076,1310953,375634,375847,375855,377274,1308184,3128,1307940,1307752,1313323,1046361,1287674,391677,1234637,338579,1233233,1230252,1227199,1222666,24525,24804,1221071,1219260,1217633,412893,412975,1239067,1212066,27563,1209420,27675,415243,416150,1208494,1206732,417577,417721,418635,1206538,1206176,1204871,27463,353558,1239068,404700,391746,392316,392671,1286523,1286015,1285148,1284415,1279509,1277142,1276020,1275881,352076,1274960,404709,1273232,395078,1257887,1257886,395290,396852,399930,21168,1254792,21181,1250722,404447,345107,1250390,1264854,1045503,1110692,66620,90461,1004761,472689,299181,471041,1004238,472603,1004762,865316,89970,472563,304082,472445,1001922,80480,461869,865656,1001363,299015,287301,74417,92857,464380,859090,92518,964610,459856,472717,80700,91536,89432,1005028,861287,460005,861385,462408,298389,470132,471291,471782,875477,460700,974546,471924,302101,461404,976660,875015,89626,80165,982542,460718,301897,80227,875127,976878,302080,973258,471869,89477,472439,871290,871291,471814,79611,299996,303491,460431,891638,984381,874374,461410,460430,878213,984244,89639,79881,959830,472951,300853,466313,849927,474093,277403,67829,453825,1031023,853350,1029111,88267,94903,853039,469833,851070,851417,305467,69311,852862,1024370,1025455,1022931,73105,87554,452958,892027,855973,1015224,81013,452475,1039477,452542,452859,459535,93642,466103,67541,73180,942188,491707,556133,554071,553519,553533,469928,412363,408825,483975,553545,393501,393985,556322,469832,394453,408980,553449,483723,394310,394306,410995,483382,556493,410952,554063,490041,553816,394028,556345,406710,554622,488961,406707,485544,405630,405553,470984,554537,401453,405064,402866,403940,470056,556805,554960,470195,470057,404194,404375,486295,470194,554736,554698,470074,555009,484804,554489,554481,395417,554211,397472,554212,554319,554586,397477,554332,554363,397581,401088,555934,554411,555930,554414,488538,398472,488537,400060,554454,400760,486949,554383,556121,557783,393431,561542,374068,560834,375527,560816,375554,560386,560354,475213,478058,377373,378642,473879,560080,473852,478080,559878,378664,559592,378683,473457,378846,559571,559569,379512,374008,477428,371946,371637,361376,565591,362865,565527,476035,476036,365952,565230,565092,475937,367327,367562,379514,367878,476098,476181,476202,371463,476961,475936,564049,564048,475918,561785,477004,475735,476089,379699,379811,478390,387537,387700,480366,472409,472263,472091,388725,557755,472048,472018,557517,481097,557980,557278,392078,557207,392380,557133,557117,482110,393063,393198,557004,393294,556927,556902,557277,471989,387179,386763,559317,472982,559209,478715,379830,380663,380902,472847,472737,558811,381054,558591,386764,558589,382176,382791,385708,472642,472617,386016,478727,558143,557988,386440,386448,386712,381096,553309,466763,469605,513458,436498,436554,436673,436707,459938,513129,459916,459896,436717,512913,512912,501666,436876,436940,512891,437079,437252,459767,437373,437379,437393,512766,512660,512591,502648,502649,513572,513625,460007,513647,460212,430692,430742,430861,433456,521940,460208,433894,521357,434698,434800,521050,434811,437415,520730,460206,460024,501405,435191,435316,518815,435683,435689,501454,435785,436016,436269,513667,520413,523564,438041,459754,510530,448781,454148,508394,449164,449214,510480,453877,510459,453832,510377,508499,453824,508703,449482,449547,510342,510252,509935,509924,449548,508803,449861,509420,509419,451772,452036,448732,454981,447095,445655,459604,502940,512566,438241,438320,504808,512514,456817,456623,456607,511832,504938,511384,502671,511312,505730,440170,507024,510844,440994,441408,441577,507811,441652,443624,508320,445636,510558,511064,430647,460214,460290,551640,418718,419092,551596,551537,551281,551213,419307,419361,551064,464491,551052,493319,420303,420447,421003,421349,493436,550791,464326,550601,463769,493669,421568,493687,493696,550435,493127,551660,452228,466977,412895,491850,553001,414977,469257,552993,552950,493001,415237,552923,469197,552778,469134,421643,469042,415810,469034,469031,416904,417083,417508,417511,552559,468965,552558,467241,552214,552153,415267,548222,548122,421644,495238,535969,461254,426732,534959,495500,534906,427062,534905,496552,534750,534597,427095,426290,428606,428817,499461,533513,428993,429029,429066,429143,533512,460397,500329,528835,500459,429566,533952,412821,495160,494914,493765,421682,422062,493810,545202,542690,422070,542166,423190,423265,542046,494347,461863,538014,461810,541912,540806,423819,539944,539932,494419,424302,539341,494808,424358,425073,425726,425756,461481,194,615047,565915,1063653,1065699,1066943,1067104,1068196,1068215,1068352,1069873,1070639,1071583,1071696,1063638,1072108,1074246,1077725,1077940,1078324,1078535,1079000,1081132,1081153,1081306,1081535,1085013,1072184,1086240,1061342,1052753,1024377,1026361,1027354,1029099,1035469,1036677,1038136,1038929,1039476,1043100,1045158,1060244,1045762,1045920,1046448,1046900,1047414,1047796,1051722,1052109,1052190,1052226,1052521,1052681,1045826,1086416,1086524,1087838,1101241,1101869,1103413,1104809,1105778,1105923,1105944,1106221,1106566,1106663,1106700,1101160,1107020,1107154,1107178,1107673,1108943,1110391,1110649,1110695,1111467,1112260,1112378,1112379,1107038,1100968,1100947,1100756,1089857,1090499,1090645,1091547,1092230,1092269,1092671,1093309,1093526,1093894,1094194,1094262,1094444,1094576,1094585,1094586,1097710,1097897,1097992,1098089,1098521,1098827,1099743,1100425,1100426,1024074,1023506,1022926,1022241,879715,879849,880007,880342,880365,880366,880600,880616,880707,883983,884299,879535,886061,891767,894201,897529,908929,909115,909403,912113,920753,923679,929117,931178,888923,878798,877744,875458,859312,859323,860386,861285,861290,862086,862179,862784,863252,863721,864493,867650,868462,868998,869867,870441,870542,872351,872352,872364,873094,874373,874411,875012,875272,937730,1112486,941085,952023,985571,987866,991866,992111,996576,996778,996785,998776,1002931,1003158,1004014,984249,1004965,1005130,1011482,1012060,1013311,1013735,1013736,1013771,1014985,1016119,1018459,1018730,1005016,984238,983899,983826,952230,957501,960182,965074,965442,967634,967662,967952,969071,970209,970600,972653,972754,973399,973413,973425,973468,973934,974547,976875,977419,978195,979498,982484,982543,945524,857354,1113165,1114005,1288512,1288546,1288547,1288750,1290358,1290511,1290886,1291060,1291662,1294164,1295105,1287655,1297328,1298726,1299564,1299612,1303048,1303199,1303230,1303245,1303260,1303262,1303267,1303600,1298350,1303629,1286867,1286699,1257075,1257237,1257422,1257529,1258421,1258614,1267809,1269781,1273607,1274004,1275571,1286720,1278344,1281214,1284598,1285399,1285435,1286001,1286534,1286539,1286551,1286552,1286650,1286698,1279140,1303676,1303856,1303875,1310550,1311023,1311053,1311224,1311434,1312679,1312716,1312961,1313522,1313544,1314215,1310543,1314272,1319662,1320594,1321574,1322294,1333026,1334688,1340272,1347680,1348133,1354627,1354691,1318863,1310322,1310179,1309884,1304303,1304345,1304418,1304593,1304719,1304997,1305098,1305217,1305345,1306367,1306926,1306929,1306933,1306934,1307105,1307147,1307149,1307428,1307707,1308469,1308837,1309234,1309392,1309427,1309442,1257074,1256979,1256958,1256925,1184544,1184545,1184931,1186427,1187452,1191103,1191686,1192096,1193444,1193853,1196872,1180764,1198534,1198766,1199103,1201105,1202288,1203309,1203817,1203818,1204829,1204910,1206214,1206326,1198556,1178434,1177841,1177840,1116781,1116868,1123633,1124111,1126514,1126624,1128457,1133038,1133498,1134372,1136155,1138771,1142205,1142289,1142950,1143142,1145512,1147496,1147887,1148727,1150337,1159684,1168423,1172272,1177722,1206385,1113212,1206537,1206637,1243414,1244130,1245945,1246723,1248896,1248949,1249337,1250277,1250394,1250525,1250526,1240415,1250564,1250678,1250723,1254055,1254347,1254411,1255074,1255086,1255159,1255175,1255201,1256892,1250630,1235749,1233278,1231524,1206714,1206986,1206990,1207137,1207354,1208486,1208876,1208967,1209046,1209349,1209396,1209539,1213858,1213931,1214962,1215188,1216549,1219197,1220086,1222646,1222647,1222657,1222983,1226086,1231114,1206606,565879,856166,855982,596936,596959,597407,597907,598068,598265,598311,598677,598861,599054,599108,596887,599305,600951,600971,600992,601007,601257,601279,601611,601809,601891,602137,605340,599456,605430,596617,595821,588312,588313,588923,589539,589567,589571,590135,590462,590544,590741,590767,596536,591135,591389,591390,591651,593352,593372,593477,593588,594135,594221,594659,595268,591202,605463,606908,607384,618634,618642,618645,618680,618681,618702,618744,619054,619135,619212,619279,618478,619499,620018,621244,622727,623477,623800,623811,624614,626379,626616,628251,628528,619542,616690,615155,615063,607385,607425,607441,607755,608143,608186,608728,609017,609862,609949,609979,611924,612630,612814,612863,613162,613189,614290,614374,614663,614833,614839,614998,615026,361286,587180,586962,586802,585502,569477,569679,569709,569725,569790,569958,570238,570499,571142,571317,571322,569469,571426,571469,571616,571701,571852,571936,572023,572119,572123,572377,572389,572450,571462,569445,569424,569383,565989,566371,566683,566741,567007,567030,567147,567455,567504,567506,567530,567593,567912,568153,568295,568410,568604,568808,568869,568876,568987,569016,569131,569232,569260,572614,628861,572715,572918,575361,575412,575422,575433,575575,575586,575685,575747,575828,576980,577248,575360,577458,579287,579899,580010,580066,580484,580694,580849,581155,582254,584801,584826,577515,575241,575105,575102,572952,573071,573096,573100,573287,573393,573439,573501,573509,573533,573609,573743,573789,573829,573874,573889,573903,574087,574098,574258,574413,574426,574645,574697,574767,572767,856049,629539,630044,749995,752102,752718,753027,754581,754775,755430,756059,756247,757240,758584,747924,758817,759510,760232,761559,761650,761716,761867,763500,763805,763868,763971,764104,759362,766362,746568,745384,722113,723735,726918,727120,728962,730373,732745,734045,734203,734370,735895,745940,736391,736943,737158,737374,737908,739445,739678,741812,741904,744507,744820,745155,736744,776411,779284,780867,830531,830532,831642,832636,832858,832859,838386,838667,838668,842760,846471,829152,847452,849036,849848,851446,852995,852996,853018,853359,853793,854772,854819,854949,848804,828060,827830,827020,781546,783931,785890,786466,788511,790757,801717,802047,802223,810858,818076,819217,821163,821176,821204,821270,823457,824295,824910,825412,826130,826314,826418,826670,826769,720637,720614,720488,720464,641344,642011,647750,648067,648398,648536,648755,648759,648892,650252,650312,641245,650466,650789,650814,650831,652071,652130,652161,652204,653680,656705,657269,657270,650786,640499,639853,638484,630274,630484,630498,630581,632256,632492,632585,632586,632862,632922,633361,633794,634023,634166,634686,634847,635024,635204,636720,637827,637889,637972,638041,638054,638227,657392,629773,658588,660191,696285,696782,697632,698717,700726,700753,703945,704574,706517,706576,707384,695254,708459,709480,709662,710414,711931,712630,712699,713700,714270,716953,718592,719553,708792,695174,691000,690955,661250,663831,664280,667522,667753,670545,672606,674405,674446,680099,680211,680764,681110,681824,682231,682575,683564,683702,685812,687791,687991,688898,689560,690019,690349,659838,361194,550344,361113,303630,177384,31502,302587,178315,302281,109048,108990,32756,33236,303961,33292,179282,108927,180228,180712,180783,295584,295583,35030,35031,182372,300172,109049,109050,109052,109382,175485,109290,305573,29703,305387,109145,29706,305356,176111,29731,109092,305041,29737,304877,177249,304756,304674,29761,29787,109070,29813,304270,295570,29646,295499,107777,36892,104626,290089,104410,37425,289055,38339,288727,104188,190098,105270,38563,190188,190844,190845,104185,38726,104136,104133,283400,104112,104111,190135,291083,291446,291447,35167,182398,35689,182445,182495,295309,295155,107527,36386,183926,107518,293869,184127,184225,185329,36632,293006,106992,36741,36748,188142,292009,188750,35033,109414,175476,109465,161129,161319,322640,118857,161387,161435,21308,21583,21607,321854,161014,21774,21782,162761,118495,162786,117996,22373,320489,22589,117995,163148,118497,322788,160905,159833,328072,327856,121018,157699,20849,327572,158169,20993,327239,326963,326625,326430,326316,158958,326285,326214,119402,326198,159326,326157,159360,21141,21142,163174,117699,117640,163796,313690,313540,172833,174211,174959,312768,28094,174979,112696,28115,311334,28120,310595,175010,28122,28134,28169,175243,110696,175376,307062,175458,109467,313794,197782,172342,172207,164183,317140,164199,24023,316855,164251,316802,164715,25975,316321,168656,168657,316275,316053,315700,169016,27163,315593,170300,171817,315161,114613,314632,114149,104083,199078,104080,240059,239540,239502,239247,239234,214164,239218,239082,75432,214212,240663,75433,76579,87218,238459,214251,214252,77797,214591,79056,83592,79097,214216,240739,213744,240740,247828,66451,89526,210175,66467,66872,67117,210271,89436,210448,210455,243901,243263,210999,89382,69573,243165,69779,242373,242354,242336,213732,241022,79117,214730,214759,237198,216081,216705,216723,216929,80707,80702,80660,80229,225147,225090,225033,225032,80657,224913,217523,217524,219260,80327,80647,219598,221131,219599,80467,231612,89631,215828,80067,237011,215015,236775,215056,236762,236758,81559,215220,79550,236653,79558,236429,79610,235705,235475,235474,80961,234124,233898,233834,232590,215667,231892,80081,157421,89642,65784,102992,204289,272535,204332,102157,101821,101199,205512,205561,205913,103030,97309,206918,270829,270249,56383,270231,208184,57141,57142,57169,208984,206429,272693,273015,51780,277516,201647,201754,104049,44059,44372,103908,202627,276753,202896,103799,103613,203094,273593,203626,48546,273463,49123,49347,273292,273274,103122,51280,209009,57941,57944,268768,90607,90446,63099,253051,90306,63102,64165,209941,64189,252459,252355,209955,251143,250573,64408,250294,64441,89810,250099,209981,250035,249837,65781,253062,248754,90720,90961,58423,209100,95854,209256,58614,209303,58618,267535,209417,209422,94888,58658,94449,58945,209651,60664,61360,209687,254196,209711,253991,92283,209768,253096,157367,33282,9183,356493,142366,15794,343932,153362,142284,147169,356356,153341,147178,345008,141411,15874,345676,153034,152836,128262,356112,140822,139711,2162,355980,129450,129772,136988,152477,153071,152451,125755,2100,146500,146509,1110,335029,18109,143513,17933,17281,356579,121988,143445,146665,338223,336820,142948,142939,16551,123464,142396,142394,356558,1546,1955,337381,2093,146768,16674,346369,147314,14713,352373,10953,3720,352851,134713,3724,10564,131733,5380,149287,10282,354825,148331,134685,149166,134178,149121,132097,354585,353713,353765,7281,361161,8581,354132,148825,132060,11854,351966,3130,152159,130370,2251,355805,14415,136538,131065,355771,147637,355758,136268,147950,148206,14181,135987,131238,135986,13966,355680,351810,3089,13285,13280,3118,12279,148330,351897,18905,18906,7387,19802,361056,19831,330692,121627,328656,146437,784,568,330693,143998,551,146148,145866,143846,146381,19791,157172,550,359114,156621,968033,853277,853492,94873,853348,853349,667094,80658,853480,853322,81501,853744,853773,853872,854410,854511,854617,665477,854809,93885,643282,643336,93823,853624,94775,95127,667186,135250,850928,850963,642243,850964,968183,851029,95917,95867,851203,851296,667523,968153,95845,852775,95773,135375,144320,852955,95721,95617,667280,95582,135842,853038,855092,667228,853150,853254,667173,665347,967743,967907,967701,861530,661238,90482,661216,862805,863187,90346,80659,863565,863585,863595,660572,144164,136493,90301,90112,865499,90100,866315,660336,80662,866367,660004,866477,866717,659913,89869,864091,93183,136012,90817,664250,93182,856048,93050,967744,850927,856099,92947,857045,857046,92880,663687,643827,90812,857360,661886,858286,858303,858633,859052,859053,92707,859311,661787,92157,860135,91539,661289,858284,850538,849950,850439,972041,831948,672513,832840,101279,672143,832878,101197,970899,833055,833089,833172,671248,833212,970898,833276,144564,833282,100753,833580,833833,834495,144499,837048,668496,837320,837453,837847,837884,831716,102631,102787,831641,103239,827042,827230,973001,827702,827868,80642,827902,972607,133595,133613,827917,828059,103089,100718,828075,829083,829118,972582,673723,673722,102876,672810,830813,830832,831254,133912,831344,831379,672514,828585,667647,838407,98946,847938,848128,968413,848488,668035,848761,96408,96391,667915,848811,134819,96261,849364,849546,849847,96235,849864,667674,96153,849932,642228,642229,80656,849947,667653,968238,659912,849953,850223,847851,847678,847677,847673,668476,970357,80651,970129,838774,838775,96654,838964,839181,668104,839995,842373,970122,144399,838526,842448,970050,969924,96492,846440,846441,969434,846453,969131,96463,80652,969069,968816,846562,96409,842449,867081,965914,966905,648358,142368,896159,652060,960021,87524,652005,651349,651060,650843,80788,897292,87340,898032,650842,958925,898883,899177,142372,958759,958652,899193,957983,899208,85903,899562,900606,648520,900654,895749,894916,87556,893452,886395,88778,886481,886482,652137,886904,887915,652133,887941,888910,88062,891363,891618,891637,901591,88039,891758,891766,87938,891841,960809,891842,652073,891908,960786,960593,87574,892162,80732,893329,648318,89176,906956,957970,81806,939925,81805,648758,942011,80970,942026,942109,81799,648660,952132,952079,81039,81500,946749,947910,648728,948210,948214,951998,948215,951495,948304,948509,949479,648681,648665,949944,950324,937065,81921,143569,929325,142606,907058,907059,85454,142609,83479,142628,142840,82474,913764,650244,648894,915044,918144,648526,82428,957863,921489,923550,82010,923691,954191,924647,927160,927348,648778,929109,81948,143705,952339,921211,659869,652157,142304,89696,89695,872765,80718,89691,873688,874156,137361,143981,89690,137703,646843,89689,89665,874497,874637,874915,658383,647590,657933,875094,875112,137874,138245,875125,103283,964101,139471,80729,89698,89720,89736,870834,867363,950323,136608,867430,659633,867496,659486,89858,867732,867905,868052,868210,659230,868501,875392,659155,869713,869716,136632,965347,869781,89766,870085,870148,870373,89741,965213,89737,964998,870591,89779,960983,656711,875433,653540,963030,880414,880528,141408,962146,653062,89376,961330,89359,881226,89351,881838,142238,883215,647964,883507,883532,883757,961072,143920,961018,883758,89350,89346,884280,142290,89333,143890,89423,89424,89425,963210,89524,963783,89522,876850,89484,878046,89466,878685,89459,878891,878915,654158,879184,653708,875402,963391,879540,963343,879598,89435,879719,89434,963324,141372,879988,89433,880228,143980,880311,141407,653707,89605,705682,826759,115136,738592,115649,691907,125746,738531,691867,691917,738460,115733,738057,737961,115759,124562,738461,115135,115082,740864,114602,690701,690739,741894,741872,690935,741604,741408,125816,741407,741244,690979,741236,691013,691851,737547,741947,737503,737386,695170,122728,736429,736416,117174,736371,695160,736325,736238,736174,122362,736173,117175,736062,736254,736430,736459,736481,116709,737230,116775,116916,737121,737050,116978,736760,117106,692100,736674,692110,736496,117167,122986,737485,114330,690691,125849,751535,750569,750199,749795,749433,749424,751783,749068,748355,689022,748354,110703,110766,110768,748601,110611,752147,752281,688494,688808,755140,109822,109891,754541,754518,754484,110038,752931,752862,110418,129349,752700,129173,747119,110955,110962,746182,689960,744839,744837,113437,744824,113521,113646,744289,743437,743289,743281,113647,126340,743030,742710,744866,117631,745110,113306,746128,127136,111658,689104,745852,127030,689575,745523,689578,745516,745458,689864,113016,113305,126693,745144,735656,735199,117796,712575,712515,712464,119443,712370,712144,702342,711988,711750,711747,711733,711412,710953,710755,119444,701152,712616,700959,119361,713206,713189,713185,698638,121439,713106,712957,700290,712802,119367,121438,712689,712672,121437,119489,119590,710582,710455,708387,704470,121409,707588,121019,707380,706660,121285,706607,705610,705611,121033,121054,706249,705818,708450,698394,121004,120986,702415,710453,119591,710037,120252,120332,709659,709585,120975,709403,703618,709011,121412,708794,120985,703952,755892,714138,119309,726360,726223,121770,724223,724188,723996,121942,723952,118622,723387,723364,697439,723341,118658,723781,726407,118421,118189,695718,122295,696376,696411,732282,696412,731006,731005,696836,729936,729934,118179,727310,727303,118187,722744,722659,722370,118675,717079,717053,119192,698173,716724,698374,119253,715691,715271,715217,119291,714537,714365,714339,714278,698166,698375,697869,697638,721543,118690,697543,697587,720618,118747,697599,118906,118907,118935,119069,718625,718611,119101,717400,717136,103463,755901,756098,105003,813972,813971,812971,131652,681502,131729,681520,681655,681678,105915,681719,809530,809272,105393,681060,814128,814316,681019,681035,104198,681038,818602,818542,818541,818416,818415,104199,815346,815231,815169,681046,814456,681736,680961,809271,802695,798116,131637,798084,681842,797855,796168,798476,791675,791014,107526,790706,790702,790541,681917,681876,799359,681770,799789,105994,802459,107246,801971,107444,107468,801269,801249,681743,131639,801248,801118,801016,800761,800760,804493,819527,680858,820118,826033,825845,825821,675903,825714,825635,826079,676140,676141,705675,677784,103943,825309,103959,103868,826080,675492,826092,674467,103519,674471,826570,103566,133562,826320,103590,826289,826241,826232,675381,103605,826128,826096,104047,824751,677956,679072,104116,822464,822003,821290,680401,680612,821256,821206,680755,104159,821172,131886,680766,821153,821096,822544,790441,104114,680201,824521,679851,104055,133252,104067,680140,823930,823460,680141,823386,823298,680175,104096,822921,822878,822683,790089,789974,681945,762153,109051,684281,684612,684951,685231,762766,761619,130000,761540,129909,686446,761436,686490,109090,763465,683588,763514,763958,763937,682701,682767,763801,682833,763770,763687,683076,763673,130574,763520,683572,763515,130498,686720,761157,761064,760999,109250,758563,758420,688052,688099,758066,757291,109386,109390,757050,757039,756983,688130,756235,688213,758965,682579,758992,758999,686721,760277,129908,760230,760214,759632,686763,109118,129875,759240,129791,687643,759193,759171,759000,687711,688476,682577,80462,131417,785925,131416,682301,107969,682392,682184,108022,783079,781995,682443,781617,131191,108171,783176,787855,131541,787862,789768,789713,789674,789412,789104,789103,788753,788745,681965,681970,788524,682086,107732,788376,788261,781045,781004,108239,108346,767454,682501,108397,766312,108847,764110,682565,764004,682566,763991,763979,108933,682571,131139,763966,108391,763965,768801,108385,779017,777622,108347,776148,775226,775075,774845,774401,772161,771630,682488,770642,769744,769405,682500,769031,973391,79482,973400,21654,1249305,1248998,21722,1248941,21770,1247871,1246637,1246009,1245798,1245657,1245454,1245073,1244631,21822,21823,1243379,1249417,1249836,1250000,1250361,1251097,1250961,21244,1250767,1250764,21251,21267,1250682,1243312,21270,21290,21296,1250551,21306,1250483,1250469,1250445,21375,1250637,1252114,1242197,22105,1227922,1227242,23298,1226150,23544,1225714,1225708,1225707,1225621,1222711,24354,1222658,24423,24440,24531,24791,1222512,1229009,1229145,23129,23007,1239488,22367,1238906,1238676,1235862,22689,1234917,22690,1241027,1234625,1233716,22719,1233277,22873,1232976,1231658,22917,1231489,22718,1253434,21243,1254346,20854,1258462,20857,20858,20989,20992,1257479,1257473,1257436,1257424,1257423,1257421,1257420,1257419,1257418,1257414,1257388,1260176,1260684,1261047,1265421,1273241,19913,1273156,1272918,1272914,1272186,1271885,1271839,1257276,1271838,20659,1269691,20809,1267423,1266777,1266543,1265700,1265422,1269934,21033,1257223,1257222,1255186,1255164,1255161,21149,1255146,1255124,1255113,1255110,1255187,1255089,21154,21156,1255071,21179,1254540,21199,1254388,21202,1255088,1222246,1255188,1255596,1257148,21037,21038,1256996,21072,21129,21137,1256894,1255193,21138,1256566,1256565,1256543,1256540,1256532,1256531,1256313,1256211,1256851,25313,1221019,1220897,1200634,1200510,1200487,1199894,1199180,1199119,29643,1199039,1199012,1198859,1198858,29663,29664,1197081,29669,1196798,1196737,1200803,1200804,1200920,29526,1204843,1204842,28686,28762,28775,29147,29236,29395,29682,29414,1202438,29416,1202074,1201908,1201772,1201568,1201534,1201109,29415,29687,1194149,1193900,1189241,1189213,1188778,29891,1188134,29966,1187476,30328,29870,30772,1184679,31783,31792,1183186,31834,32387,1180671,1178544,1185983,28507,1189615,1191546,1193889,1193870,1193623,1193614,1193530,29719,29733,1193099,29806,1192901,29736,1192332,1192280,1192269,1192012,1191800,1191792,1191678,1192743,19850,1204879,1204956,27192,27301,27452,1210767,1210383,1210356,1210265,1210043,1209550,1209546,27487,1209538,1209536,1209527,1209517,27517,1209455,1214424,1214425,27162,27161,1220645,25444,1219517,1219289,25614,1219211,1219185,1219184,1209421,1218987,1218963,1218962,1218796,26104,26438,1217628,27133,1215300,1218972,27666,1209398,27682,1206717,1206713,1206712,1206701,1206700,1206671,1206669,1206664,28100,1206654,1206540,28150,28170,1206251,1206227,28177,28321,1205070,28123,28506,1206987,28095,1209362,27726,27753,28064,28067,1208499,28084,28091,1206988,1208482,1207674,1207408,1207394,28093,1207353,1207243,1207163,1207135,1208450,33264,1274003,1274383,2976,1310346,2985,1310238,1310237,2987,1310161,2988,1309830,1309474,2990,1309437,2996,3009,3094,1309149,1309082,2943,1310731,1310840,2942,2179,2192,1312465,1312394,1312329,1312292,1312291,1312169,1309054,2221,1311316,1311186,2259,2815,1311034,1311031,2935,2940,1311322,1312680,3100,1308195,7010,1306862,7290,1306823,1306765,1306514,1306412,7537,1306361,1306345,1306333,1306312,8720,9534,1305813,1305788,1305426,6933,6514,1306962,1306990,3122,1308175,1308050,1308043,1307908,3151,1307747,3160,1308808,3584,1307145,1307144,1307136,1307119,5856,1307102,6089,1307056,1307171,1312687,1312701,1312758,1034,1334488,1334487,1333855,1051,1332674,1332303,1331170,1331103,1330673,1330626,1330052,1329856,1329295,1328357,1327913,1327757,900,1336514,1336594,828,1354524,1353357,1352893,1352690,1352617,588,1351224,666,1327439,688,1346145,1346144,1346143,1346083,1343174,1343087,1341582,1341578,1346216,1327198,1327080,1326850,1313408,1313390,2117,1313345,2123,2127,1313242,1313191,1313420,1313141,1313037,1312999,1312981,1312962,2129,1312960,1312918,1312871,1313074,1305391,2106,1313520,1326655,1324949,1431,1321623,1463,1321125,1320606,1320595,2101,1547,1319451,1959,1965,2031,1314213,2096,2098,1313521,1319610,9540,9811,9818,1290613,15777,1289311,1289310,1289058,15862,1288988,1288987,15867,15868,15925,16268,16481,16512,1287091,1287057,1287021,1290623,1290802,1290880,15671,1294296,1294175,15180,1293953,1293124,1292130,1292018,1292016,1286907,1291824,1291320,1291291,1291170,15560,1291049,1291048,1290997,1290978,15374,1286887,1286886,1286875,1281860,19434,1281171,1281159,1280381,19491,19505,1279508,1281893,19613,1278030,1277231,19789,19793,19803,19818,1274723,1274590,19771,15038,1281894,19377,1286859,1286750,16579,1286703,16580,16701,1286635,1286614,1283088,1286602,16767,17220,1286542,1286521,18526,18938,19102,19263,1286563,1274176,1294767,14728,1304206,11321,1303921,1303876,11544,1303827,1303706,1303658,1303643,12735,1303597,1303590,1303516,1303286,13652,13665,13669,10990,1304319,1304328,10956,1305068,1305055,10281,1304833,1304784,1304739,1304730,1304729,13805,1304705,1304607,1304606,10558,1304517,1304486,1304467,1304346,1304333,1304625,1303238,13806,14043,1298616,1298535,14646,1298342,1298136,1298064,1297646,1297597,14645,1297251,1297162,1297161,1297054,1296347,1296308,1295931,1295635,1295468,14725,15033,1298857,14582,1303227,1303216,1303215,1303204,1303188,1303176,14189,14259,1299511,14290,1302599,1302585,1302584,1302126,1301356,1299884,1299788,14398,1302878,1176540,34186,34403,1043006,66982,67583,67584,1038234,1038155,67592,1037872,1037623,1036786,68337,1036568,1036391,1036362,68361,1034808,1034490,66950,1044902,1045269,1045270,64886,1046888,1046854,1046812,1046728,1046512,1046368,1046212,1033793,1046117,1046096,1046036,65862,65863,65872,66040,1045448,1045313,1046116,1046975,1033656,1031653,70181,1023505,1023201,70349,71996,1022883,72477,72897,1018482,73140,1018251,1017836,1017032,1016884,1016856,1016809,1016708,1023538,1023901,70131,1024217,68370,1029112,69024,69035,1028905,1028900,1028735,1028568,1033247,1028558,69235,69588,1025459,69778,1024661,1024422,69801,69982,1028414,1047156,64812,64668,1062834,62218,1061309,1060331,62245,1060025,1059833,1059487,1057998,1056296,1054036,62283,1053756,1053639,1053580,1053579,1053307,1063228,62016,62004,61691,1069895,58888,1069828,1068772,58939,59174,1067853,59585,62666,1066945,1066085,61683,61685,1065580,1064912,1064382,1063968,1063961,1066086,1052960,1052950,62898,1049211,1049124,1049123,1048486,1048145,64473,1047664,1047663,1049284,1047628,1047564,1047554,1047553,1047438,1047436,1047435,1047425,64667,1047570,1016707,64409,1052052,63053,1052816,1052809,1052799,1052765,63345,1052684,64035,1049464,64068,1052541,1052500,1052261,1052228,64198,64221,1052117,64362,1052542,1016703,73414,1015595,983159,983045,983044,982801,80131,80169,80181,982455,982434,981238,981237,980472,980299,80188,80225,979468,979451,983176,983360,983362,983749,988547,988546,987870,79773,987011,79788,986301,986152,979445,986126,985887,79922,984440,79930,79934,984248,79938,79964,986093,979429,979411,979242,974619,974618,974617,80418,974504,974094,973985,80444,974799,973874,973817,973624,973472,80456,973430,80457,973415,80460,973873,988552,974821,974844,80228,978011,977875,977432,977201,977200,977097,977057,974826,977029,80280,80324,80326,975561,975543,975353,975295,975118,976980,1070615,988961,989644,76960,1005155,77026,78606,1005025,1005024,1005023,1005018,78866,79014,1005012,1004964,1004952,1004806,1004802,1004769,1004742,1011557,1011739,1011793,76444,1015286,73415,1015142,73466,1014781,1014167,1013893,1013840,1004361,1013837,1013826,1013825,73618,75395,1013726,75814,1013709,1013672,1013836,1004279,1004274,79118,1000447,1000381,1000268,1000261,999592,999330,999325,998857,79545,997800,996818,79551,79599,995050,993987,992251,79681,991798,996831,988980,79519,79513,79143,79234,1003126,1002976,641935,1002921,1002868,1002867,1001831,1002799,1002630,1002526,1002371,1002362,1002197,1002160,1002110,1002094,1002798,58677,1070670,1070682,1114247,1113342,36904,36916,1113148,1113115,1113028,1112802,1112778,37807,38235,38245,38257,1112329,1112321,1112175,38429,1114489,1115318,36886,1116787,36651,36723,36731,36738,1126301,1126046,1125357,1125023,1111372,1124157,1121757,1118488,1117983,36768,1117376,1117329,1117168,36821,36739,1111312,1111011,1111005,1107033,1107032,40069,1107017,1106929,1106865,40647,41842,39974,44021,1106344,1106320,1106300,44022,1106218,1105995,45461,1105710,1106349,36612,39730,1107229,1110944,1110927,1110895,38568,38698,1110670,38723,39004,39709,1109217,1109005,1108979,39221,1108145,39549,1107867,39686,39688,1109205,1105432,36592,36584,1154392,1153700,1153096,1152904,34788,1149159,1149043,1148732,1148730,1148729,34789,34896,1148527,1148118,1148079,1148076,1148063,1154393,1155302,1155338,1156323,1171842,1171841,1170310,34560,1166904,1165527,1164901,1162552,1147983,1162031,1160709,34654,1158693,1158617,1158570,1157578,34784,1156937,1161989,1147903,1147707,1147667,1134202,36460,36474,1133490,1133432,1133237,36487,1132672,1134291,1132163,1131942,1131201,1131200,1130587,1130586,36571,36577,1129229,1132137,1127912,1134419,36367,1147337,1146639,35575,1143622,35624,35664,35811,35862,1135718,1139578,35934,36181,1137741,1137550,1137549,36187,1136693,36191,1138825,80461,1104888,1104470,57023,1087477,1087362,1087180,1086487,1086389,1086290,1086242,1085700,1085140,57329,57601,57851,1084599,1084591,57854,1083578,1087850,1087936,1089812,56919,1092321,1092319,55919,55920,1092113,1091588,1091570,56018,1083477,1091442,56072,56341,56568,1090635,56677,1090515,56754,56781,1091441,1083381,1082328,57947,1073142,1073107,58636,1072047,1072046,1072012,1071987,1071986,1073344,1071971,1071811,58637,1071614,58638,1071547,1071361,1071353,1070721,1071812,1092336,1073499,1074333,57970,1081140,58049,1079018,58346,58496,58567,1077866,1073918,1077808,1077737,58613,1077632,1075837,1075476,1075185,1074648,1074647,58568,45811,1092413,1092528,47645,1100063,1100062,1099306,1099003,1098943,49696,49750,49871,49903,50269,1098047,1097994,50587,1097875,1097809,51786,1100435,1100718,1100754,47135,1104183,46281,46282,1103390,1103273,1102694,1102520,46633,1097705,1101866,1101848,46690,46835,1101163,46840,46903,46905,1100887,1101862,1097303,1097244,1096943,1094190,1094044,1094008,53172,55271,1093538,55422,55514,52767,1093146,1093048,1092975,1092888,1092859,1092735,55629,1092609,1092603,55562,55635,52714,52438,1096892,1096557,1096130,1095628,1095496,1095400,51804,1095352,1094423,1095269,1095054,1095043,1095042,1094842,52140,52194,52195,1094485,1095059,641379,626618,641343,472915,472898,472855,472854,472853,287042,472843,472842,472826,472749,472741,287212,287233,472731,287497,472698,472651,285488,472981,283476,473007,278489,473863,473862,473857,281253,473801,473791,281663,472650,473492,473449,473324,473188,473143,281757,473022,473021,473020,281697,474044,472648,472630,292231,292309,471780,471513,471432,471399,292322,471280,471058,292323,471038,292330,470972,470860,470557,470209,293038,471815,471871,471918,471942,288946,289069,472530,472528,289275,289720,289814,290064,288945,472354,472280,290256,472239,290310,290360,290447,472041,290583,472297,293407,474321,474508,272642,272775,478026,272787,272820,477440,477429,273009,477152,477128,273037,476999,476995,273253,476953,476939,476845,478382,272629,478446,478645,481069,481013,480527,480407,480406,271813,272286,479420,476296,479131,479075,272315,478787,478772,478767,272444,478716,272589,479079,474484,273282,273322,475644,475643,475550,475390,475389,475093,475064,475016,474907,474899,474875,474808,474717,474716,474715,474713,474548,475675,276369,475877,276332,273459,476073,476072,476071,476053,273530,273531,476018,476186,476016,475980,475962,475959,475957,475948,275994,276257,475932,273568,470193,293585,470131,303634,303979,304023,304081,304095,460203,460181,460122,460045,304336,304409,459999,459981,459954,304410,304604,459803,460295,460296,303301,460415,461672,461499,461482,300156,300633,461329,461328,301239,304794,461139,460852,301627,460730,301949,460669,460666,460554,302540,460903,461793,459753,304984,306066,452927,452892,452866,306205,452801,452764,452626,452586,306298,306299,306389,452043,306461,451782,451773,306515,306065,305714,305597,305585,459595,459531,459499,459495,459459,459358,305050,305327,459695,456508,456338,456161,455749,455748,454989,305505,454201,454086,456372,299671,461834,299369,469282,295132,469222,469162,295221,469045,295222,295285,295286,469030,468963,468957,468839,468600,468516,467800,295310,469292,469325,469365,469366,470123,470112,470106,293586,470068,470058,293681,293783,467486,469931,294789,294841,469810,469754,469695,469634,295090,469417,469834,467485,467269,467242,297420,463851,463798,297468,463753,463147,463125,463086,464325,298437,463067,463066,462447,298748,462046,462045,299180,299231,463076,271793,297414,296993,295390,467020,295492,466156,466151,466118,295571,465999,464379,465997,465467,465401,464777,464452,464423,464408,464407,464397,465780,481555,271694,481600,509116,509065,509059,508947,508835,508719,248740,508684,508545,508469,249688,249708,508329,508321,249750,508311,508249,246146,245425,509215,509227,244338,509894,509833,509768,509752,509645,509634,509617,508008,509604,509502,244375,244824,509418,509389,509365,244897,509235,509565,244165,507962,507780,502075,250167,501708,250188,250252,501476,501475,250829,251418,251433,252379,500427,500426,500342,253037,500281,500204,502202,502204,502330,502362,507766,507026,249839,505749,249864,505592,505434,249876,507911,249886,504558,504278,249944,502891,250037,502667,250044,250057,504638,509948,509990,509996,513260,513226,239074,513081,513041,512989,512967,239285,239333,239489,512805,512771,239501,512744,239605,512575,239811,239071,513270,239067,513334,515323,515296,515103,515088,514516,514347,513912,513881,239936,513847,513834,237590,237635,238485,238980,513455,513434,239066,513841,512522,512516,240253,242374,510662,242877,510565,243061,243127,243231,243236,510729,243240,510449,510410,510395,510392,243343,510357,510354,243735,243241,500168,510773,510807,512418,240315,240546,512113,511795,511790,511619,511618,510801,511491,511435,511410,240988,511053,511018,510947,242243,510859,511449,451669,500094,499860,492193,268856,492057,492056,492019,268921,269197,269221,491672,491671,269225,269346,269388,489914,489355,488982,269480,492374,492404,492419,492502,493253,493252,493251,267879,493218,493140,268303,268304,488856,493104,268553,268699,493046,268855,492957,492930,492817,492555,268549,493277,269663,488520,483617,483403,270966,483353,271008,271548,482368,482252,482223,482115,271573,482046,481806,481805,481774,481734,481733,270950,270907,484008,484037,488207,488004,487989,487873,269826,486472,270233,486094,269819,486093,485779,270238,485240,485119,484674,484452,484364,270850,485781,493278,267816,493435,253323,496113,496074,495973,495972,495845,495784,495773,495682,495496,495495,495492,254857,495387,495364,254865,257195,496156,253322,496344,496414,499859,499773,499759,499590,499574,499500,498965,498963,495210,498881,498121,496940,496857,496849,496787,496642,496493,496460,498753,257829,495143,494950,267092,493762,493761,493746,493706,493705,267138,267365,493767,493670,493585,493583,493573,267536,267550,493491,493446,267777,493622,499863,265273,262393,259368,494913,494861,259469,259914,494806,494734,494658,493836,259969,494495,494474,260707,261479,262296,494222,494206,493916,494496,515509,451654,306517,395109,395088,395080,351828,395068,394465,394463,394462,351970,394032,351972,352238,393630,393614,393568,393563,393538,395139,395184,351817,395363,396305,396204,395984,395976,348208,395786,350490,395683,352253,395680,395661,395655,395650,395583,395544,395514,395483,351169,395679,348079,352325,393210,389595,389594,389273,389118,388882,353559,388719,388619,388266,387897,387893,387887,387881,354032,387859,387858,387745,390112,353270,391671,353206,352912,393092,393066,352990,393047,392798,392743,353051,393321,392429,392318,353142,392144,392143,353197,392058,392054,353205,353081,354382,397023,348078,405749,405644,343584,343955,405363,344199,344200,404930,404884,404787,344950,404657,345675,345752,345835,404316,346193,405825,406290,406494,406598,337018,337184,337347,410116,409275,409239,409045,409043,404164,408846,337411,337973,407725,406712,338472,342234,406687,406686,408845,397045,404116,404086,400321,400315,400062,400061,346464,400028,399981,399974,346539,399928,399795,399794,399780,399441,346553,346855,347088,400434,400623,400672,400756,404085,403979,403971,346261,403914,403889,403032,402867,404104,346282,401819,346286,346317,401452,401102,401087,401086,346383,402829,354390,387587,354439,374278,374207,374090,356545,373937,373717,373663,373542,373460,373450,373105,373010,372252,372242,372063,372025,356564,375060,375069,356537,375257,356172,377146,376791,376621,375970,375961,356459,356460,371724,375841,375684,375658,375629,375606,375592,356494,375542,356528,375837,356132,356606,370029,366083,360885,366020,365957,360928,365908,365861,365854,365836,364513,362866,360965,361931,361379,361036,361287,361262,366096,360296,366360,359638,369568,369478,356735,369075,369029,368984,368962,359100,356615,368825,368596,368501,368500,359141,367846,367642,359492,359628,368824,377997,378461,378549,385877,355655,355678,385685,385644,385533,385525,385515,385514,385422,385394,385305,385198,385153,384946,355703,355728,385914,385916,385946,385970,354440,354582,387160,387032,354647,386729,354667,386616,382495,386607,354824,355547,386323,355622,386111,355636,355642,385981,354793,382451,382417,382413,355891,379609,379583,379579,379546,379525,379524,355981,379643,379498,379353,379027,356001,356002,378680,378677,356065,378573,379442,412439,355824,379767,355729,381668,381098,355740,355748,355749,355760,380889,379738,380709,380568,380437,380435,380425,380411,380367,355785,355823,355784,412810,336851,336339,316442,316579,436706,316669,436643,436617,436609,436569,316768,436521,316769,436346,436345,436310,316923,435843,435811,316423,436875,316393,436917,315615,437486,315722,315876,315947,437363,437321,316192,316924,437189,437107,437097,316287,436963,436952,436949,436929,436918,437179,438175,435690,435636,433527,320599,433455,433453,320616,433251,431283,431279,431278,430920,321024,321435,430740,430731,430719,430717,430708,433866,433885,319854,433895,435578,435429,435341,317515,317714,317772,434859,317829,317163,317830,434760,317831,317882,434464,434053,318178,433900,433897,434772,315571,315533,315376,449638,449637,449636,308761,309223,309251,449529,309326,449471,310061,310389,449357,449314,449302,449260,449253,310390,449643,449644,449664,449671,451525,451314,450944,450898,306939,450741,450268,450183,310678,450161,449956,449944,449936,449862,308293,449774,449709,449672,308277,310679,310697,448775,441036,441012,441011,440986,440953,440951,440944,440928,441210,440927,314148,440164,314869,439911,315043,438675,438434,315364,440713,321580,441332,313400,311521,311980,448709,311981,446993,446935,446706,445795,313504,312802,312866,313348,313374,443245,313390,441644,441640,441616,445067,451620,321747,429790,327846,419229,419228,419174,328251,418775,328352,418644,418643,328422,418316,417922,417836,417733,328471,417719,328509,327731,419512,327719,327703,421582,327252,421569,327313,327315,327372,421338,327470,328510,420844,420326,420325,420317,420300,327601,420244,327603,420218,327556,421642,417510,417486,415528,331025,415244,334158,415238,334932,415236,414627,414438,413912,413491,413440,413179,413055,413043,335041,336054,415652,415737,415780,331021,417455,417239,417105,417069,417066,416626,416625,416579,328603,330766,416253,330773,416094,416062,416059,416058,416055,416012,416274,327231,421668,327037,322411,428897,428896,428894,428848,428847,322531,322576,428641,428627,428243,428217,428199,428196,428185,428154,428109,322367,322230,429118,322198,321831,429646,429622,429611,429605,429598,429596,429595,427065,429521,429320,429299,429289,429288,429233,322058,429193,429153,429402,322941,426975,426969,423781,423778,423742,423593,423358,423345,423342,326315,423795,422857,422315,422083,422075,326763,327013,422045,421868,421862,422413,430029,326176,326061,322982,426944,426753,426752,322996,426697,322997,323871,424298,426280,324094,325247,425751,325248,425723,425515,325556,425010,323981,515512,515769,515787,594212,594153,594140,593901,593771,164297,593435,165096,167190,593334,592889,592705,592572,167297,167540,592468,592395,594748,164174,164147,595228,597191,597127,597126,162823,163127,596584,163217,596468,592394,163304,596296,163343,595842,163759,595626,164095,595518,164121,596304,597285,592317,592189,590783,590760,590757,172716,590727,590645,590639,590589,590558,172730,172930,173204,590107,589869,589593,174558,174955,590866,590928,590936,591066,592176,592151,592020,591970,591673,591535,591499,168808,592316,591483,168968,171301,591336,591334,591325,172156,172181,591091,591482,589541,162793,597560,602082,602076,601945,159349,159392,601826,159417,601775,601698,160406,601545,160851,601450,160896,601374,601373,601349,602115,159249,602151,602163,158813,605279,605268,605217,605215,605210,605209,605138,601313,158920,158949,604464,604412,604392,603867,602861,602829,602203,604875,597433,601312,601241,598959,598958,162347,162448,598676,598665,598649,162715,162725,598222,598197,598007,597601,597585,597577,597570,597569,598961,161627,599038,599053,601206,601205,161294,161320,600809,600553,600552,600487,160911,600411,599606,599603,161375,599424,599234,161545,599088,161585,600375,589495,589456,589455,180468,575383,575376,575365,180709,575353,575346,575309,180840,181026,181143,181148,181251,575094,575083,574803,574790,180225,575434,575435,180134,579588,579319,177378,178283,577612,577596,577479,178561,181548,577290,179113,576661,576655,576595,179123,179206,179486,179507,178876,579684,574782,181576,573967,573965,573950,573940,573938,573934,183181,573910,183608,183718,573884,184079,184082,573873,573856,573838,573794,573974,574007,182775,574023,181617,574644,574581,182120,182176,574570,574538,574469,181570,574460,574414,574374,574336,182411,182425,574185,574073,182578,182391,579685,579760,579765,586312,586302,585917,585504,175310,585239,175407,584809,175425,584697,582977,582851,582571,582521,582419,582413,582351,586314,586473,586631,586654,588939,588833,588770,588743,588703,588364,174991,587784,582312,587783,175034,587179,587174,587021,586987,586970,175296,175298,587229,175460,175461,582253,580787,580727,580652,176722,580472,580242,580162,580139,580788,580083,580017,579997,579996,177277,177294,177377,579826,579817,176747,158812,580829,580846,582130,582039,581944,581723,581606,581448,581398,581396,580844,581348,581173,175543,581153,581115,581060,581029,580899,175815,581176,158749,158748,606233,148285,629762,629735,148305,629479,629404,148320,628878,628785,628694,628679,628636,628621,628577,628576,628522,628449,148265,629982,148258,630067,632152,632046,147404,631848,631811,631666,147548,630961,628272,630780,147927,630522,147937,630470,630419,148167,630101,630088,630699,632161,148477,628173,149081,624792,624791,624686,624630,149280,624596,149281,624517,624513,624490,624469,624416,624090,623836,149314,149360,624838,624868,625070,625093,628163,148641,628158,628156,628113,628042,148661,627005,628175,148679,148696,626479,626364,625385,625354,625302,625261,625228,626797,632203,147366,632260,638337,638314,638275,146438,146489,638040,638035,637984,637886,637883,637878,637849,637667,637666,637508,637507,637368,638404,146390,638426,146349,641308,145005,641236,641222,145865,641206,641100,641099,637361,640949,640522,145975,146052,146222,638723,638607,638606,638540,640848,637346,637105,636990,633388,633379,633362,147194,633296,633144,633134,633058,633607,147207,147241,147252,632777,632691,147300,147301,147313,632269,147230,623783,633712,147183,636858,146698,636615,636566,636565,636191,146726,635033,633740,146825,146903,634708,146984,634632,634579,634333,147011,147143,634927,184224,149408,623705,614526,156351,614346,156403,156497,156498,156590,612840,612789,612638,612631,156641,612619,612596,612246,156685,610253,156131,614623,614624,614631,153428,154775,154833,615012,615009,615008,155545,615003,610060,155662,155822,155908,614830,614729,614702,156130,614661,614643,614989,615066,610015,610000,607841,607819,607775,157582,157667,607722,607586,607585,607581,607526,157843,607440,158553,158554,158670,606760,606322,607885,157346,157314,157311,156761,157054,609899,609891,609880,609868,157203,609773,610009,609762,609672,609349,609346,609161,609160,157272,157302,157306,609759,153387,615191,615249,150045,620236,150046,619769,150088,619732,619729,619725,619641,619614,619611,619606,619569,619561,619560,150212,151454,620295,620376,149888,620487,623480,149474,149586,622517,622516,622505,622448,622370,151742,622315,621376,621311,149814,149817,149829,620723,620715,620574,621426,619396,151904,152077,152698,152708,618707,152709,618683,152717,152719,152730,618776,152777,617878,617785,617153,616729,153169,616090,615782,615487,618640,623725,152662,619045,619278,619277,619274,619261,619240,619235,619222,619209,619017,619187,619175,619174,619165,619164,619142,619109,152643,619049,619179,573786,184551,184552,215230,555512,215280,215322,555301,215414,215506,555202,555185,555184,555171,215507,555079,555055,555054,555045,555038,555575,555584,555594,555619,556043,556028,556015,555954,555941,214965,215019,555922,215517,555863,555818,215150,555808,555760,555759,555734,555717,555634,555819,556081,554972,554962,216627,554331,216935,554296,554248,216962,216969,554202,554177,554153,216971,217067,217156,217276,554061,554017,217310,216517,554441,554446,554449,215532,215541,554836,554829,554808,215609,215621,554652,554969,215632,554585,554578,215836,554523,215995,216005,554484,216225,554590,556101,214946,556122,213593,557909,557873,213644,213647,213703,557768,557748,557747,213736,213752,557497,557496,557461,557426,557339,557338,557956,557960,212033,211528,558848,558843,558815,210481,558569,558536,210907,558404,557322,558298,558262,210929,210966,558189,558178,211440,558117,558114,558295,213753,213754,557262,556749,556705,556436,556417,556379,556359,214315,556333,556750,556332,556291,556273,556272,556235,556233,556143,556139,556124,214628,553619,556756,214225,557252,213770,557242,557237,557217,213795,557184,557165,556757,213813,213908,557055,557024,557023,214146,556971,214148,556806,213885,558849,553564,217386,536471,536415,536395,535977,535961,535947,236098,535457,535397,236155,535142,535123,236214,236326,236347,236368,236446,234732,538073,538080,538343,230593,230657,542041,230751,231709,231848,540416,540272,236633,540177,540030,231962,231963,539633,539519,539162,233887,538344,540111,230569,236651,236663,236802,520904,520743,236952,520615,520555,520129,520005,519899,519342,519051,518973,237254,237255,237270,237577,515902,521083,236801,521611,236781,236664,236674,533507,533466,236743,533414,533351,532813,534366,532689,528776,526822,524684,523834,236765,236770,236774,522528,532529,542260,542594,542617,221010,221018,552557,552542,552449,221030,552379,552339,221102,221122,552143,552005,552004,551848,551751,221366,221576,552577,552578,552664,220859,217485,553459,553288,553237,553182,553056,553028,217528,222096,218190,552947,552926,219543,552808,552807,552762,552750,552683,552984,551549,551538,224128,1355188,550275,550114,549995,225833,227857,227858,548174,550433,228108,547019,547018,230274,543506,543030,543015,230513,542669,228277,217349,550545,225043,551534,224199,551275,224200,551198,224428,551067,224438,550573,224648,551017,550960,224669,550895,550796,550793,224914,550754,551051,144565,558901,559104,204152,570775,204280,570765,570698,570651,570609,570511,570504,204286,570485,570481,570426,570332,570300,204296,570181,570786,570796,570902,570998,571450,571449,203394,571384,571360,571345,571334,571318,570012,203825,203900,203906,571198,571149,203924,203925,571068,204151,571293,203239,204360,569789,206086,206150,569227,206168,569116,206189,569076,569009,207239,568978,568957,568913,568901,568885,207263,208014,208027,206070,206030,569368,205580,569731,569730,204362,569723,569711,569710,204409,205216,204361,205453,569479,205509,205551,569426,205563,569400,569396,569384,569552,571466,571471,571472,573045,573026,573010,572986,572967,572956,189155,572943,572942,572940,572927,189848,572902,572884,572812,189985,572781,573061,573070,189015,188733,573564,185539,573540,185571,185633,185801,186083,573431,190011,186527,573420,573419,573413,573412,186851,573353,573131,573111,573424,572762,190757,572545,198452,572077,201565,572003,571984,571971,201755,202014,198360,202300,202427,202464,571626,571623,202478,571527,202986,571481,202414,568855,197833,572153,572452,572451,572446,572436,572414,572409,192655,572391,572125,192874,195582,572278,572267,196677,572202,572177,197243,572172,194828,558941,568854,208119,560907,209918,209933,560687,560618,560617,560559,209946,560322,560317,560271,560254,209970,560187,560186,560184,560159,561018,561068,561382,561483,209755,209761,565049,564812,564363,209824,209838,563420,560154,563054,562691,562360,562049,209851,209879,209908,209914,561529,562701,209747,560125,560085,559466,559459,559457,559451,559446,559421,559420,559360,210147,210180,210197,559180,559171,559163,210205,210224,559114,559565,210126,210079,210071,209991,560028,560024,559978,559956,559887,210015,559877,560101,559841,559809,559794,559717,559713,559666,559620,210070,559573,559810,209744,565289,565292,567824,567822,567821,567806,567777,209073,567652,567643,567617,209106,567588,567576,209156,567514,209225,567468,209300,567872,209048,209010,209000,208214,568531,208218,208235,568396,568363,568351,568341,567444,208566,208639,568154,208903,568112,567997,567995,567952,567946,568298,567442,567431,567391,566360,209641,566023,209644,209652,209655,565908,565900,209633,565829,565681,565663,209710,565539,565528,209742,209743,565332,209701,208082,566382,566400,567333,567270,209332,209390,209411,209455,567035,209484,566391,209505,209508,566993,566990,209545,209627,566560,566495,566401,209506,1355228]'"
      ]
     },
     "execution_count": 127,
     "metadata": {},
     "output_type": "execute_result"
    }
   ],
   "source": [
    "adata.obs['cell_sentences'][0]"
   ]
  },
  {
   "cell_type": "code",
   "execution_count": null,
   "id": "ecd87036",
   "metadata": {},
   "outputs": [],
   "source": []
  }
 ],
 "metadata": {
  "kernelspec": {
   "display_name": "venv311",
   "language": "python",
   "name": "python3"
  },
  "language_info": {
   "codemirror_mode": {
    "name": "ipython",
    "version": 3
   },
   "file_extension": ".py",
   "mimetype": "text/x-python",
   "name": "python",
   "nbconvert_exporter": "python",
   "pygments_lexer": "ipython3",
   "version": "3.11.12"
  }
 },
 "nbformat": 4,
 "nbformat_minor": 5
}
