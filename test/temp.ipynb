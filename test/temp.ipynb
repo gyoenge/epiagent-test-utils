{
 "cells": [
  {
   "cell_type": "code",
   "execution_count": 1,
   "id": "0e5c8064",
   "metadata": {},
   "outputs": [],
   "source": [
    "import scanpy as sc\n",
    "\n",
    "# Load the preprocessed AnnData\n",
    "input_path = '../data/sample/raw_h5ad/Li2023b_downsampled_10000_cells.h5ad'\n",
    "adata = sc.read_h5ad(input_path)"
   ]
  },
  {
   "cell_type": "code",
   "execution_count": 2,
   "id": "f4cad599",
   "metadata": {},
   "outputs": [
    {
     "name": "stdout",
     "output_type": "stream",
     "text": [
      "Applying TF-IDF...\n"
     ]
    },
    {
     "name": "stdout",
     "output_type": "stream",
     "text": [
      "Tokenizing the data...\n",
      "Tokenization complete: 'cell_sentences' column added to adata.obs.\n",
      "Processed data saved at ../data/sample/processed_h5ad/Li2023b_downsampled_10000_cells_cellsentenced.h5ad\n"
     ]
    }
   ],
   "source": [
    "from epiagent.preprocessing import global_TFIDF\n",
    "from epiagent.tokenization import tokenization\n",
    "import numpy as np\n",
    "import os\n",
    "\n",
    "cCRE_document_frequency = np.load('../data/cCRE_document_frequency.npy')\n",
    "\n",
    "# Apply TF-IDF\n",
    "print(\"Applying TF-IDF...\")\n",
    "global_TFIDF(adata, cCRE_document_frequency)\n",
    "\n",
    "# Tokenize the data\n",
    "print(\"Tokenizing the data...\")\n",
    "tokenization(adata)\n",
    "\n",
    "# Save the processed AnnData\n",
    "processed_output_dir = \"../data/sample/processed_h5ad/\"\n",
    "os.makedirs(processed_output_dir, exist_ok=True)\n",
    "processed_output_path = os.path.join(processed_output_dir, \"Li2023b_downsampled_10000_cells_cellsentenced.h5ad\")\n",
    "adata.write(processed_output_path)\n",
    "print(f\"Processed data saved at {processed_output_path}\")"
   ]
  },
  {
   "cell_type": "code",
   "execution_count": 3,
   "id": "3ec30c37",
   "metadata": {},
   "outputs": [
    {
     "name": "stdout",
     "output_type": "stream",
     "text": [
      "AnnData object with n_obs × n_vars = 9999 × 1355445\n",
      "    obs: 'sample', 'cell_barcode', 'brain_region', 'diagnosis', 'donor_ID', 'sex', 'age', 'TSS_enrichment', 'num_reads_in_TSS', 'num_reads_in_promoter', 'num_reads_in_blacklist', 'prmoter_ratio', 'nucleosome_ratio', 'num_unique_fragments', 'num_mononucleosome_fragments', 'num_dinucleosome_fragments', 'num_multinucleosome_fragments', 'doublet_score', 'doublet_enrichment', 'blacklist_ratio', 'ArchR_clusters_full_dataset', 'annotation_cell_class', 'annotation_major_cell_type', 'annotation_cell_subtype', 'cell_type', 'cross_validation', 'cell_sentences'\n"
     ]
    }
   ],
   "source": [
    "print(adata)"
   ]
  },
  {
   "cell_type": "markdown",
   "id": "8d6b63a1",
   "metadata": {},
   "source": [
    "### DI"
   ]
  },
  {
   "cell_type": "code",
   "execution_count": 1,
   "id": "86f97bc8",
   "metadata": {},
   "outputs": [],
   "source": [
    "import scanpy as sc\n",
    "\n",
    "input_path = './output/finetune_DI/imputed_signals_finetuned_epoch_50.h5ad'\n",
    "adata = sc.read_h5ad(input_path)"
   ]
  },
  {
   "cell_type": "code",
   "execution_count": 2,
   "id": "640cd4e7",
   "metadata": {},
   "outputs": [
    {
     "data": {
      "text/plain": [
       "AnnData object with n_obs × n_vars = 10001 × 50000\n",
       "    obs: 'sangerID', 'combinedID', 'donor', 'donor_type', 'region', 'region_finest', 'age', 'gender', 'facility', 'cell_or_nuclei', 'modality', 'kit_10x', 'flushed', 'batch_key', 'cell_type', 'cell_state', 'cross_validation', 'cell_sentences'\n",
       "    uns: 'cell_type_colors', 'neighbors', 'pca', 'umap'\n",
       "    obsm: 'X_pca', 'X_umap'\n",
       "    varm: 'PCs'\n",
       "    obsp: 'connectivities', 'distances'"
      ]
     },
     "execution_count": 2,
     "metadata": {},
     "output_type": "execute_result"
    }
   ],
   "source": [
    "adata"
   ]
  },
  {
   "cell_type": "code",
   "execution_count": 5,
   "id": "3d214ddc",
   "metadata": {},
   "outputs": [
    {
     "data": {
      "text/plain": [
       "(10001, 50)"
      ]
     },
     "execution_count": 5,
     "metadata": {},
     "output_type": "execute_result"
    }
   ],
   "source": [
    "adata.obsm['X_pca'].shape"
   ]
  },
  {
   "cell_type": "code",
   "execution_count": 3,
   "id": "23f0e056",
   "metadata": {},
   "outputs": [
    {
     "data": {
      "text/plain": [
       "array([[ 6.5349927, 10.657569 ],\n",
       "       [-6.528096 ,  1.0514829],\n",
       "       [10.891603 ,  8.127394 ],\n",
       "       ...,\n",
       "       [-4.6673927,  9.065848 ],\n",
       "       [ 2.5069582,  8.075196 ],\n",
       "       [-7.9387836,  3.0977898]], dtype=float32)"
      ]
     },
     "execution_count": 3,
     "metadata": {},
     "output_type": "execute_result"
    }
   ],
   "source": [
    "adata.obsm['X_umap']"
   ]
  },
  {
   "cell_type": "code",
   "execution_count": null,
   "id": "b4bd7186",
   "metadata": {},
   "outputs": [],
   "source": []
  }
 ],
 "metadata": {
  "kernelspec": {
   "display_name": "venv311",
   "language": "python",
   "name": "python3"
  },
  "language_info": {
   "codemirror_mode": {
    "name": "ipython",
    "version": 3
   },
   "file_extension": ".py",
   "mimetype": "text/x-python",
   "name": "python",
   "nbconvert_exporter": "python",
   "pygments_lexer": "ipython3",
   "version": "3.11.12"
  }
 },
 "nbformat": 4,
 "nbformat_minor": 5
}
